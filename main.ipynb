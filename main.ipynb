{
 "cells": [
  {
   "cell_type": "code",
   "execution_count": 1,
   "metadata": {},
   "outputs": [],
   "source": [
    "from Config.Dataset.example import load_dataset\n",
    "from Config.Model.example import ComposedModel\n",
    "from torch.utils.data import DataLoader\n",
    "from Pruning.greg import GReg"
   ]
  },
  {
   "cell_type": "code",
   "execution_count": 2,
   "metadata": {},
   "outputs": [],
   "source": [
    "dataset = load_dataset()\n",
    "model = ComposedModel()"
   ]
  },
  {
   "cell_type": "code",
   "execution_count": 3,
   "metadata": {},
   "outputs": [],
   "source": [
    "train_dataloader = DataLoader(dataset, batch_size=2, shuffle=True)\n",
    "test_dataloader = DataLoader(dataset, batch_size=2, shuffle=True)"
   ]
  },
  {
   "cell_type": "code",
   "execution_count": 4,
   "metadata": {},
   "outputs": [],
   "source": [
    "greg = GReg()"
   ]
  },
  {
   "cell_type": "code",
   "execution_count": 5,
   "metadata": {},
   "outputs": [
    {
     "name": "stdout",
     "output_type": "stream",
     "text": [
      "Register layer index and kernel shape:\n",
      "[ 0]                 model.conv1 -- kernel_shape: torch.Size([64, 3, 7, 7])\n",
      "[ 1]        model.layer1.0.conv1 -- kernel_shape: torch.Size([64, 64, 1, 1])\n",
      "[ 2]        model.layer1.0.conv2 -- kernel_shape: torch.Size([64, 64, 3, 3])\n",
      "[ 3]        model.layer1.0.conv3 -- kernel_shape: torch.Size([256, 64, 1, 1])\n",
      "[ 3] model.layer1.0.downsample.0 -- kernel_shape: torch.Size([256, 64, 1, 1])\n",
      "[ 4]        model.layer1.1.conv1 -- kernel_shape: torch.Size([64, 256, 1, 1])\n",
      "[ 5]        model.layer1.1.conv2 -- kernel_shape: torch.Size([64, 64, 3, 3])\n",
      "[ 6]        model.layer1.1.conv3 -- kernel_shape: torch.Size([256, 64, 1, 1])\n",
      "[ 7]        model.layer1.2.conv1 -- kernel_shape: torch.Size([64, 256, 1, 1])\n",
      "[ 8]        model.layer1.2.conv2 -- kernel_shape: torch.Size([64, 64, 3, 3])\n",
      "[ 9]        model.layer1.2.conv3 -- kernel_shape: torch.Size([256, 64, 1, 1])\n",
      "[10]        model.layer2.0.conv1 -- kernel_shape: torch.Size([128, 256, 1, 1])\n",
      "[11]        model.layer2.0.conv2 -- kernel_shape: torch.Size([128, 128, 3, 3])\n",
      "[12]        model.layer2.0.conv3 -- kernel_shape: torch.Size([512, 128, 1, 1])\n",
      "[12] model.layer2.0.downsample.0 -- kernel_shape: torch.Size([512, 256, 1, 1])\n",
      "[13]        model.layer2.1.conv1 -- kernel_shape: torch.Size([128, 512, 1, 1])\n",
      "[14]        model.layer2.1.conv2 -- kernel_shape: torch.Size([128, 128, 3, 3])\n",
      "[15]        model.layer2.1.conv3 -- kernel_shape: torch.Size([512, 128, 1, 1])\n",
      "[16]        model.layer2.2.conv1 -- kernel_shape: torch.Size([128, 512, 1, 1])\n",
      "[17]        model.layer2.2.conv2 -- kernel_shape: torch.Size([128, 128, 3, 3])\n",
      "[18]        model.layer2.2.conv3 -- kernel_shape: torch.Size([512, 128, 1, 1])\n",
      "[19]        model.layer2.3.conv1 -- kernel_shape: torch.Size([128, 512, 1, 1])\n",
      "[20]        model.layer2.3.conv2 -- kernel_shape: torch.Size([128, 128, 3, 3])\n",
      "[21]        model.layer2.3.conv3 -- kernel_shape: torch.Size([512, 128, 1, 1])\n",
      "[22]        model.layer3.0.conv1 -- kernel_shape: torch.Size([256, 512, 1, 1])\n",
      "[23]        model.layer3.0.conv2 -- kernel_shape: torch.Size([256, 256, 3, 3])\n",
      "[24]        model.layer3.0.conv3 -- kernel_shape: torch.Size([1024, 256, 1, 1])\n",
      "[24] model.layer3.0.downsample.0 -- kernel_shape: torch.Size([1024, 512, 1, 1])\n",
      "[25]        model.layer3.1.conv1 -- kernel_shape: torch.Size([256, 1024, 1, 1])\n",
      "[26]        model.layer3.1.conv2 -- kernel_shape: torch.Size([256, 256, 3, 3])\n",
      "[27]        model.layer3.1.conv3 -- kernel_shape: torch.Size([1024, 256, 1, 1])\n",
      "[28]        model.layer3.2.conv1 -- kernel_shape: torch.Size([256, 1024, 1, 1])\n",
      "[29]        model.layer3.2.conv2 -- kernel_shape: torch.Size([256, 256, 3, 3])\n",
      "[30]        model.layer3.2.conv3 -- kernel_shape: torch.Size([1024, 256, 1, 1])\n",
      "[31]        model.layer3.3.conv1 -- kernel_shape: torch.Size([256, 1024, 1, 1])\n",
      "[32]        model.layer3.3.conv2 -- kernel_shape: torch.Size([256, 256, 3, 3])\n",
      "[33]        model.layer3.3.conv3 -- kernel_shape: torch.Size([1024, 256, 1, 1])\n",
      "[34]        model.layer3.4.conv1 -- kernel_shape: torch.Size([256, 1024, 1, 1])\n",
      "[35]        model.layer3.4.conv2 -- kernel_shape: torch.Size([256, 256, 3, 3])\n",
      "[36]        model.layer3.4.conv3 -- kernel_shape: torch.Size([1024, 256, 1, 1])\n",
      "[37]        model.layer3.5.conv1 -- kernel_shape: torch.Size([256, 1024, 1, 1])\n",
      "[38]        model.layer3.5.conv2 -- kernel_shape: torch.Size([256, 256, 3, 3])\n",
      "[39]        model.layer3.5.conv3 -- kernel_shape: torch.Size([1024, 256, 1, 1])\n",
      "[40]        model.layer4.0.conv1 -- kernel_shape: torch.Size([512, 1024, 1, 1])\n",
      "[41]        model.layer4.0.conv2 -- kernel_shape: torch.Size([512, 512, 3, 3])\n",
      "[42]        model.layer4.0.conv3 -- kernel_shape: torch.Size([2048, 512, 1, 1])\n",
      "[42] model.layer4.0.downsample.0 -- kernel_shape: torch.Size([2048, 1024, 1, 1])\n",
      "[43]        model.layer4.1.conv1 -- kernel_shape: torch.Size([512, 2048, 1, 1])\n",
      "[44]        model.layer4.1.conv2 -- kernel_shape: torch.Size([512, 512, 3, 3])\n",
      "[45]        model.layer4.1.conv3 -- kernel_shape: torch.Size([2048, 512, 1, 1])\n",
      "[46]        model.layer4.2.conv1 -- kernel_shape: torch.Size([512, 2048, 1, 1])\n",
      "[47]        model.layer4.2.conv2 -- kernel_shape: torch.Size([512, 512, 3, 3])\n",
      "[48]        model.layer4.2.conv3 -- kernel_shape: torch.Size([2048, 512, 1, 1])\n",
      "[49]                    model.fc -- kernel_shape: torch.Size([1000, 2048])\n",
      "{'model.conv1': 0.0, 'model.layer1.0.conv1': 0.675, 'model.layer1.0.conv2': 0.675, 'model.layer1.0.conv3': 0.675, 'model.layer1.0.downsample.0': 0.675, 'model.layer1.1.conv1': 0.675, 'model.layer1.1.conv2': 0.675, 'model.layer1.1.conv3': 0.675, 'model.layer1.2.conv1': 0.675, 'model.layer1.2.conv2': 0.675, 'model.layer1.2.conv3': 0.675, 'model.layer2.0.conv1': 0.675, 'model.layer2.0.conv2': 0.675, 'model.layer2.0.conv3': 0.675, 'model.layer2.0.downsample.0': 0.675, 'model.layer2.1.conv1': 0.675, 'model.layer2.1.conv2': 0.675, 'model.layer2.1.conv3': 0.675, 'model.layer2.2.conv1': 0.675, 'model.layer2.2.conv2': 0.675, 'model.layer2.2.conv3': 0.675, 'model.layer2.3.conv1': 0.675, 'model.layer2.3.conv2': 0.675, 'model.layer2.3.conv3': 0.675, 'model.layer3.0.conv1': 0.675, 'model.layer3.0.conv2': 0.675, 'model.layer3.0.conv3': 0.675, 'model.layer3.0.downsample.0': 0.675, 'model.layer3.1.conv1': 0.675, 'model.layer3.1.conv2': 0.675, 'model.layer3.1.conv3': 0.675, 'model.layer3.2.conv1': 0.675, 'model.layer3.2.conv2': 0.675, 'model.layer3.2.conv3': 0.675, 'model.layer3.3.conv1': 0.675, 'model.layer3.3.conv2': 0.675, 'model.layer3.3.conv3': 0.675, 'model.layer3.4.conv1': 0.675, 'model.layer3.4.conv2': 0.675, 'model.layer3.4.conv3': 0.675, 'model.layer3.5.conv1': 0.675, 'model.layer3.5.conv2': 0.675, 'model.layer3.5.conv3': 0.675, 'model.layer4.0.conv1': 0.675, 'model.layer4.0.conv2': 0.675, 'model.layer4.0.conv3': 0.675, 'model.layer4.0.downsample.0': 0.675, 'model.layer4.1.conv1': 0.675, 'model.layer4.1.conv2': 0.675, 'model.layer4.1.conv3': 0.675, 'model.layer4.2.conv1': 0.675, 'model.layer4.2.conv2': 0.675, 'model.layer4.2.conv3': 0.675, 'model.fc': 0.675}\n"
     ]
    },
    {
     "data": {
      "application/vnd.jupyter.widget-view+json": {
       "model_id": "e6bd06443fea475da93bff1eb57e989d",
       "version_major": 2,
       "version_minor": 0
      },
      "text/plain": [
       "  0%|          | 0/154 [00:00<?, ?it/s]"
      ]
     },
     "metadata": {},
     "output_type": "display_data"
    },
    {
     "ename": "KeyboardInterrupt",
     "evalue": "",
     "output_type": "error",
     "traceback": [
      "\u001b[1;31m---------------------------------------------------------------------------\u001b[0m",
      "\u001b[1;31mKeyboardInterrupt\u001b[0m                         Traceback (most recent call last)",
      "Cell \u001b[1;32mIn[5], line 1\u001b[0m\n\u001b[1;32m----> 1\u001b[0m mask \u001b[39m=\u001b[39m greg(model, train_dataloader,test_loader\u001b[39m=\u001b[39;49mtest_dataloader)\n",
      "File \u001b[1;32mc:\\Users\\Zhang\\Documents\\GitHub\\Neural-testing\\Pruning\\greg.py:156\u001b[0m, in \u001b[0;36mGReg.__call__\u001b[1;34m(self, model, train_loader_prune, test_loader, n_conv_within_block, res, stage_pr, skip_layers, pick_pruned)\u001b[0m\n\u001b[0;32m    154\u001b[0m     passer\u001b[39m.\u001b[39mskip_layers \u001b[39m=\u001b[39m strlist_to_list(skip_layers, \u001b[39mstr\u001b[39m) \n\u001b[0;32m    155\u001b[0m passer\u001b[39m.\u001b[39mpick_pruned \u001b[39m=\u001b[39m pick_pruned\n\u001b[1;32m--> 156\u001b[0m pruner \u001b[39m=\u001b[39m Pruner(model,passer,reg_granularity_recover\u001b[39m=\u001b[39;49m\u001b[39mself\u001b[39;49m\u001b[39m.\u001b[39;49mreg_granularity_recover,reg_granularity_prune\u001b[39m=\u001b[39;49m\u001b[39mself\u001b[39;49m\u001b[39m.\u001b[39;49mreg_granularity_prune,reg_granularity_pick\u001b[39m=\u001b[39;49m\u001b[39mself\u001b[39;49m\u001b[39m.\u001b[39;49mreg_granularity_pick,\n\u001b[0;32m    157\u001b[0m          reg_upper_limit_pick\u001b[39m=\u001b[39;49m\u001b[39mself\u001b[39;49m\u001b[39m.\u001b[39;49mreg_upper_limit_pick,reg_upper_limit\u001b[39m=\u001b[39;49m\u001b[39mself\u001b[39;49m\u001b[39m.\u001b[39;49mreg_upper_limit,lr_prune\u001b[39m=\u001b[39;49m\u001b[39mself\u001b[39;49m\u001b[39m.\u001b[39;49mlr_prune,momentum\u001b[39m=\u001b[39;49m\u001b[39mself\u001b[39;49m\u001b[39m.\u001b[39;49mmomentum,weight_decay\u001b[39m=\u001b[39;49m\u001b[39mself\u001b[39;49m\u001b[39m.\u001b[39;49mweight_decay,\n\u001b[0;32m    158\u001b[0m          test_interval\u001b[39m=\u001b[39;49m\u001b[39mself\u001b[39;49m\u001b[39m.\u001b[39;49mtest_interval,update_reg_interval\u001b[39m=\u001b[39;49m\u001b[39mself\u001b[39;49m\u001b[39m.\u001b[39;49mupdate_reg_interval,stabilize_reg_interval\u001b[39m=\u001b[39;49m\u001b[39mself\u001b[39;49m\u001b[39m.\u001b[39;49mstabilize_reg_interval)\n\u001b[0;32m    159\u001b[0m pruner\u001b[39m.\u001b[39mprune()\n\u001b[0;32m    160\u001b[0m mask \u001b[39m=\u001b[39m pruner\u001b[39m.\u001b[39mmask\n",
      "File \u001b[1;32mc:\\Users\\Zhang\\Documents\\GitHub\\Neural-testing\\Pruning\\reg_pruner.py:43\u001b[0m, in \u001b[0;36mPruner.__init__\u001b[1;34m(self, model, passer, reg_granularity_recover, reg_granularity_prune, reg_granularity_pick, reg_upper_limit_pick, reg_upper_limit, lr_prune, momentum, weight_decay, test_interval, update_reg_interval, stabilize_reg_interval)\u001b[0m\n\u001b[0;32m     40\u001b[0m \u001b[39mself\u001b[39m\u001b[39m.\u001b[39mupdate_reg_interval \u001b[39m=\u001b[39m update_reg_interval\n\u001b[0;32m     41\u001b[0m \u001b[39mself\u001b[39m\u001b[39m.\u001b[39mstabilize_reg_interval \u001b[39m=\u001b[39m stabilize_reg_interval\n\u001b[1;32m---> 43\u001b[0m \u001b[39mself\u001b[39;49m\u001b[39m.\u001b[39;49m_get_kept_wg_L1()\n\u001b[0;32m     44\u001b[0m \u001b[39mfor\u001b[39;00m k, v \u001b[39min\u001b[39;00m \u001b[39mself\u001b[39m\u001b[39m.\u001b[39mpruned_wg\u001b[39m.\u001b[39mitems():\n\u001b[0;32m     45\u001b[0m     \u001b[39mself\u001b[39m\u001b[39m.\u001b[39mpruned_wg_L1[k] \u001b[39m=\u001b[39m v\n",
      "File \u001b[1;32mc:\\Users\\Zhang\\Documents\\GitHub\\Neural-testing\\Pruning\\meta_pruner.py:210\u001b[0m, in \u001b[0;36mMetaPruner._get_kept_wg_L1\u001b[1;34m(self)\u001b[0m\n\u001b[0;32m    208\u001b[0m score \u001b[39m=\u001b[39m m\u001b[39m.\u001b[39mweight\u001b[39m.\u001b[39mabs()\u001b[39m.\u001b[39mflatten()\n\u001b[0;32m    209\u001b[0m \u001b[39mself\u001b[39m\u001b[39m.\u001b[39mpruned_wg[name] \u001b[39m=\u001b[39m \u001b[39mself\u001b[39m\u001b[39m.\u001b[39m_pick_pruned(score, \u001b[39mself\u001b[39m\u001b[39m.\u001b[39mpr[name], \u001b[39mself\u001b[39m\u001b[39m.\u001b[39mpick_pruned)\n\u001b[1;32m--> 210\u001b[0m \u001b[39mself\u001b[39m\u001b[39m.\u001b[39mkept_wg[name] \u001b[39m=\u001b[39m [i \u001b[39mfor\u001b[39;00m i \u001b[39min\u001b[39;00m \u001b[39mrange\u001b[39m(\u001b[39mlen\u001b[39m(score)) \u001b[39mif\u001b[39;00m i \u001b[39mnot\u001b[39;00m \u001b[39min\u001b[39;00m \u001b[39mself\u001b[39m\u001b[39m.\u001b[39mpruned_wg[name]]\n",
      "File \u001b[1;32mc:\\Users\\Zhang\\Documents\\GitHub\\Neural-testing\\Pruning\\meta_pruner.py:210\u001b[0m, in \u001b[0;36m<listcomp>\u001b[1;34m(.0)\u001b[0m\n\u001b[0;32m    208\u001b[0m score \u001b[39m=\u001b[39m m\u001b[39m.\u001b[39mweight\u001b[39m.\u001b[39mabs()\u001b[39m.\u001b[39mflatten()\n\u001b[0;32m    209\u001b[0m \u001b[39mself\u001b[39m\u001b[39m.\u001b[39mpruned_wg[name] \u001b[39m=\u001b[39m \u001b[39mself\u001b[39m\u001b[39m.\u001b[39m_pick_pruned(score, \u001b[39mself\u001b[39m\u001b[39m.\u001b[39mpr[name], \u001b[39mself\u001b[39m\u001b[39m.\u001b[39mpick_pruned)\n\u001b[1;32m--> 210\u001b[0m \u001b[39mself\u001b[39m\u001b[39m.\u001b[39mkept_wg[name] \u001b[39m=\u001b[39m [i \u001b[39mfor\u001b[39;00m i \u001b[39min\u001b[39;00m \u001b[39mrange\u001b[39m(\u001b[39mlen\u001b[39m(score)) \u001b[39mif\u001b[39;00m i \u001b[39mnot\u001b[39;49;00m \u001b[39min\u001b[39;49;00m \u001b[39mself\u001b[39;49m\u001b[39m.\u001b[39;49mpruned_wg[name]]\n",
      "File \u001b[1;32mc:\\Users\\Zhang\\miniconda3\\lib\\site-packages\\torch\\_tensor.py:983\u001b[0m, in \u001b[0;36mTensor.__contains__\u001b[1;34m(self, element)\u001b[0m\n\u001b[0;32m    980\u001b[0m     \u001b[39mreturn\u001b[39;00m handle_torch_function(Tensor\u001b[39m.\u001b[39m\u001b[39m__contains__\u001b[39m, (\u001b[39mself\u001b[39m,), \u001b[39mself\u001b[39m, element)\n\u001b[0;32m    981\u001b[0m \u001b[39mif\u001b[39;00m \u001b[39misinstance\u001b[39m(element, (torch\u001b[39m.\u001b[39mTensor, Number)):\n\u001b[0;32m    982\u001b[0m     \u001b[39m# type hint doesn't understand the __contains__ result array\u001b[39;00m\n\u001b[1;32m--> 983\u001b[0m     \u001b[39mreturn\u001b[39;00m (element \u001b[39m==\u001b[39;49m \u001b[39mself\u001b[39;49m)\u001b[39m.\u001b[39;49many()\u001b[39m.\u001b[39mitem()  \u001b[39m# type: ignore[union-attr]\u001b[39;00m\n\u001b[0;32m    985\u001b[0m \u001b[39mraise\u001b[39;00m \u001b[39mRuntimeError\u001b[39;00m(\n\u001b[0;32m    986\u001b[0m     \u001b[39m\"\u001b[39m\u001b[39mTensor.__contains__ only supports Tensor or scalar, but you passed in a \u001b[39m\u001b[39m%s\u001b[39;00m\u001b[39m.\u001b[39m\u001b[39m\"\u001b[39m\n\u001b[0;32m    987\u001b[0m     \u001b[39m%\u001b[39m \u001b[39mtype\u001b[39m(element)\n\u001b[0;32m    988\u001b[0m )\n",
      "\u001b[1;31mKeyboardInterrupt\u001b[0m: "
     ]
    }
   ],
   "source": [
    "mask = greg(model, train_dataloader,test_loader=test_dataloader)"
   ]
  },
  {
   "cell_type": "code",
   "execution_count": null,
   "metadata": {},
   "outputs": [],
   "source": []
  }
 ],
 "metadata": {
  "kernelspec": {
   "display_name": "Python 3",
   "language": "python",
   "name": "python3"
  },
  "language_info": {
   "codemirror_mode": {
    "name": "ipython",
    "version": 3
   },
   "file_extension": ".py",
   "mimetype": "text/x-python",
   "name": "python",
   "nbconvert_exporter": "python",
   "pygments_lexer": "ipython3",
   "version": "3.10.10"
  },
  "orig_nbformat": 4
 },
 "nbformat": 4,
 "nbformat_minor": 2
}
