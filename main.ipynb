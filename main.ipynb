{
 "cells": [
  {
   "cell_type": "code",
   "execution_count": 1,
   "metadata": {},
   "outputs": [],
   "source": [
    "from Config.Dataset.cifar10 import load_dataset\n",
    "from Config.Model.custom import ComposedModel,NUM_CLASSES\n",
    "from torch.utils.data import DataLoader\n",
    "from Pruning.greg import GReg\n",
    "from Pruning.taylor import Taylor\n",
    "from Mutants.core import LabelError, DataMissing, DataShuffle, NoisePerturb, ContrastRatio\n",
    "from Pruning.obd import OBD\n",
    "from Indicator.builtin import compute_classification_metrics\n",
    "import datetime\n",
    "from utils import check_device\n",
    "import numpy as np\n",
    "from tqdm.notebook import tqdm"
   ]
  },
  {
   "cell_type": "code",
   "execution_count": 2,
   "metadata": {},
   "outputs": [],
   "source": [
    "experiment_name = datetime.datetime.now().strftime(\"%Y%m%d-%H%M%S\")"
   ]
  },
  {
   "cell_type": "code",
   "execution_count": 3,
   "metadata": {},
   "outputs": [
    {
     "name": "stdout",
     "output_type": "stream",
     "text": [
      "Files already downloaded and verified\n",
      "Files already downloaded and verified\n"
     ]
    }
   ],
   "source": [
    "train_dataset,test_dataset = load_dataset()\n",
    "model = ComposedModel()"
   ]
  },
  {
   "cell_type": "code",
   "execution_count": 4,
   "metadata": {},
   "outputs": [],
   "source": [
    "train_dataloader = DataLoader(train_dataset, batch_size=128, shuffle=False,collate_fn=ContrastRatio())\n",
    "test_dataloader = DataLoader(test_dataset, batch_size=128, shuffle=False)"
   ]
  },
  {
   "cell_type": "code",
   "execution_count": 14,
   "metadata": {},
   "outputs": [
    {
     "name": "stdout",
     "output_type": "stream",
     "text": [
      "torch.Size([128, 3, 32, 32])\n",
      "tensor([[[0.2702, 0.1970, 0.2290,  ..., 0.7237, 0.6962, 0.6779],\n",
      "         [0.0733, 0.0000, 0.0824,  ..., 0.5634, 0.5451, 0.5588],\n",
      "         [0.1145, 0.0733, 0.2244,  ..., 0.5405, 0.5497, 0.4993],\n",
      "         ...,\n",
      "         [0.9527, 0.9207, 0.9069,  ..., 0.7329, 0.2565, 0.2428],\n",
      "         [0.8245, 0.7924, 0.8520,  ..., 0.8428, 0.4443, 0.3802],\n",
      "         [0.8107, 0.7695, 0.8199,  ..., 0.9894, 0.6917, 0.5634]],\n",
      "\n",
      "        [[0.2840, 0.2107, 0.2199,  ..., 0.6046, 0.5726, 0.5680],\n",
      "         [0.0916, 0.0000, 0.0366,  ..., 0.4031, 0.3802, 0.3985],\n",
      "         [0.1099, 0.0321, 0.1237,  ..., 0.3848, 0.3848, 0.3344],\n",
      "         ...,\n",
      "         [0.7787, 0.7008, 0.7375,  ..., 0.6092, 0.1420, 0.1557],\n",
      "         [0.6367, 0.5634, 0.6596,  ..., 0.6779, 0.2840, 0.2428],\n",
      "         [0.6596, 0.5909, 0.6504,  ..., 0.8428, 0.5405, 0.4214]],\n",
      "\n",
      "        [[0.2886, 0.2061, 0.1970,  ..., 0.4947, 0.4672, 0.4718],\n",
      "         [0.0916, 0.0000, 0.0000,  ..., 0.2519, 0.2290, 0.2611],\n",
      "         [0.0962, 0.0000, 0.0366,  ..., 0.2290, 0.2290, 0.1924],\n",
      "         ...,\n",
      "         [0.4397, 0.1557, 0.1191,  ..., 0.3206, 0.0321, 0.0916],\n",
      "         [0.4397, 0.1924, 0.1374,  ..., 0.4306, 0.1557, 0.1557],\n",
      "         [0.5313, 0.4306, 0.3985,  ..., 0.6413, 0.3848, 0.3298]]])\n",
      "tensor([6, 9, 9, 4, 1, 1, 2, 7, 8, 3, 4, 7, 7, 2, 9, 9, 9, 3, 2, 6, 4, 3, 6, 6,\n",
      "        2, 6, 3, 5, 4, 0, 0, 9, 1, 3, 4, 0, 3, 7, 3, 3, 5, 2, 2, 7, 1, 1, 1, 2,\n",
      "        2, 0, 9, 5, 7, 9, 2, 2, 5, 2, 4, 3, 1, 1, 8, 2, 1, 1, 4, 9, 7, 8, 5, 9,\n",
      "        6, 7, 3, 1, 9, 0, 3, 1, 3, 5, 4, 5, 7, 7, 4, 7, 9, 4, 2, 3, 8, 0, 1, 6,\n",
      "        1, 1, 4, 1, 8, 3, 9, 6, 6, 1, 8, 5, 2, 9, 9, 8, 1, 7, 7, 0, 0, 6, 9, 1,\n",
      "        2, 2, 9, 2, 6, 6, 1, 9])\n"
     ]
    }
   ],
   "source": [
    "for x,y in train_dataloader:\n",
    "    print(x.shape)\n",
    "    print(x[0])\n",
    "    print(y)\n",
    "    break"
   ]
  },
  {
   "cell_type": "code",
   "execution_count": 6,
   "metadata": {},
   "outputs": [
    {
     "ename": "TomlDecodeError",
     "evalue": "Invalid date or number (line 2 column 1 char 9)",
     "output_type": "error",
     "traceback": [
      "\u001b[1;31m---------------------------------------------------------------------------\u001b[0m",
      "\u001b[1;31mValueError\u001b[0m                                Traceback (most recent call last)",
      "File \u001b[1;32mc:\\Users\\Zhang\\miniconda3\\lib\\site-packages\\toml\\decoder.py:511\u001b[0m, in \u001b[0;36mloads\u001b[1;34m(s, _dict, decoder)\u001b[0m\n\u001b[0;32m    510\u001b[0m \u001b[39mtry\u001b[39;00m:\n\u001b[1;32m--> 511\u001b[0m     ret \u001b[39m=\u001b[39m decoder\u001b[39m.\u001b[39;49mload_line(line, currentlevel, multikey,\n\u001b[0;32m    512\u001b[0m                             multibackslash)\n\u001b[0;32m    513\u001b[0m \u001b[39mexcept\u001b[39;00m \u001b[39mValueError\u001b[39;00m \u001b[39mas\u001b[39;00m err:\n",
      "File \u001b[1;32mc:\\Users\\Zhang\\miniconda3\\lib\\site-packages\\toml\\decoder.py:737\u001b[0m, in \u001b[0;36mTomlDecoder.load_line\u001b[1;34m(self, line, currentlevel, multikey, multibackslash)\u001b[0m\n\u001b[0;32m    736\u001b[0m \u001b[39mif\u001b[39;00m prev_val \u001b[39m==\u001b[39m pair[\u001b[39m-\u001b[39m\u001b[39m1\u001b[39m]:\n\u001b[1;32m--> 737\u001b[0m     \u001b[39mraise\u001b[39;00m \u001b[39mValueError\u001b[39;00m(\u001b[39m\"\u001b[39m\u001b[39mInvalid date or number\u001b[39m\u001b[39m\"\u001b[39m)\n\u001b[0;32m    738\u001b[0m \u001b[39mif\u001b[39;00m strictly_valid:\n",
      "\u001b[1;31mValueError\u001b[0m: Invalid date or number",
      "\nDuring handling of the above exception, another exception occurred:\n",
      "\u001b[1;31mTomlDecodeError\u001b[0m                           Traceback (most recent call last)",
      "Cell \u001b[1;32mIn[6], line 4\u001b[0m\n\u001b[0;32m      1\u001b[0m \u001b[39mimport\u001b[39;00m \u001b[39mtoml\u001b[39;00m\n\u001b[0;32m      3\u001b[0m \u001b[39mwith\u001b[39;00m \u001b[39mopen\u001b[39m(\u001b[39m'\u001b[39m\u001b[39mConfig/pipeline.toml\u001b[39m\u001b[39m'\u001b[39m) \u001b[39mas\u001b[39;00m f:\n\u001b[1;32m----> 4\u001b[0m     config \u001b[39m=\u001b[39m toml\u001b[39m.\u001b[39;49mload(f)\n\u001b[0;32m      5\u001b[0m     \u001b[39mprint\u001b[39m(config)\n",
      "File \u001b[1;32mc:\\Users\\Zhang\\miniconda3\\lib\\site-packages\\toml\\decoder.py:156\u001b[0m, in \u001b[0;36mload\u001b[1;34m(f, _dict, decoder)\u001b[0m\n\u001b[0;32m    154\u001b[0m \u001b[39melse\u001b[39;00m:\n\u001b[0;32m    155\u001b[0m     \u001b[39mtry\u001b[39;00m:\n\u001b[1;32m--> 156\u001b[0m         \u001b[39mreturn\u001b[39;00m loads(f\u001b[39m.\u001b[39;49mread(), _dict, decoder)\n\u001b[0;32m    157\u001b[0m     \u001b[39mexcept\u001b[39;00m \u001b[39mAttributeError\u001b[39;00m:\n\u001b[0;32m    158\u001b[0m         \u001b[39mraise\u001b[39;00m \u001b[39mTypeError\u001b[39;00m(\u001b[39m\"\u001b[39m\u001b[39mYou can only load a file descriptor, filename or \u001b[39m\u001b[39m\"\u001b[39m\n\u001b[0;32m    159\u001b[0m                         \u001b[39m\"\u001b[39m\u001b[39mlist\u001b[39m\u001b[39m\"\u001b[39m)\n",
      "File \u001b[1;32mc:\\Users\\Zhang\\miniconda3\\lib\\site-packages\\toml\\decoder.py:514\u001b[0m, in \u001b[0;36mloads\u001b[1;34m(s, _dict, decoder)\u001b[0m\n\u001b[0;32m    511\u001b[0m     ret \u001b[39m=\u001b[39m decoder\u001b[39m.\u001b[39mload_line(line, currentlevel, multikey,\n\u001b[0;32m    512\u001b[0m                             multibackslash)\n\u001b[0;32m    513\u001b[0m \u001b[39mexcept\u001b[39;00m \u001b[39mValueError\u001b[39;00m \u001b[39mas\u001b[39;00m err:\n\u001b[1;32m--> 514\u001b[0m     \u001b[39mraise\u001b[39;00m TomlDecodeError(\u001b[39mstr\u001b[39m(err), original, pos)\n\u001b[0;32m    515\u001b[0m \u001b[39mif\u001b[39;00m ret \u001b[39mis\u001b[39;00m \u001b[39mnot\u001b[39;00m \u001b[39mNone\u001b[39;00m:\n\u001b[0;32m    516\u001b[0m     multikey, multilinestr, multibackslash \u001b[39m=\u001b[39m ret\n",
      "\u001b[1;31mTomlDecodeError\u001b[0m: Invalid date or number (line 2 column 1 char 9)"
     ]
    }
   ],
   "source": [
    "import toml\n",
    "\n",
    "with open('Config/pipeline.toml') as f:\n",
    "    config = toml.load(f)\n",
    "    print(config)"
   ]
  },
  {
   "cell_type": "code",
   "execution_count": 21,
   "metadata": {},
   "outputs": [
    {
     "data": {
      "text/plain": [
       "0.06274509803921569"
      ]
     },
     "execution_count": 21,
     "metadata": {},
     "output_type": "execute_result"
    }
   ],
   "source": [
    "eval(\"16/255\")"
   ]
  },
  {
   "cell_type": "code",
   "execution_count": 4,
   "metadata": {},
   "outputs": [],
   "source": [
    "from Adversarial import advGan\n",
    "from Explanation import ig\n",
    "from Mutants import DataShuffle"
   ]
  },
  {
   "cell_type": "code",
   "execution_count": null,
   "metadata": {},
   "outputs": [],
   "source": [
    "import pretrainedmodels"
   ]
  }
 ],
 "metadata": {
  "kernelspec": {
   "display_name": "Python 3",
   "language": "python",
   "name": "python3"
  },
  "language_info": {
   "codemirror_mode": {
    "name": "ipython",
    "version": 3
   },
   "file_extension": ".py",
   "mimetype": "text/x-python",
   "name": "python",
   "nbconvert_exporter": "python",
   "pygments_lexer": "ipython3",
   "version": "3.10.10"
  },
  "orig_nbformat": 4
 },
 "nbformat": 4,
 "nbformat_minor": 2
}
