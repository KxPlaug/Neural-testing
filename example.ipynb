{
 "cells": [
  {
   "cell_type": "markdown",
   "metadata": {},
   "source": [
    "# Import necessary libraries"
   ]
  },
  {
   "cell_type": "code",
   "execution_count": 1,
   "metadata": {},
   "outputs": [],
   "source": [
    "from adversarial.imageclassification.pgd import PGD\n",
    "from adversarial.imageclassification.attack import run_attack,plot_adversarial_sample\n",
    "from explanation.saliency.saliency_zoo import agi,run_explanation,caculate_insert_deletion\n",
    "from mutants.image_classification import LabelError,NoisePerturb\n",
    "from models.densenet121_cifar10 import ComposedModel as DenseNet121\n",
    "from models.googlenet_cifar10 import ComposedModel as GoogleNet\n",
    "from models.inception_v3_cifar10 import ComposedModel as InceptionV3\n",
    "from models.mobilenet_v2_cifar10 import ComposedModel as MobileNetV2\n",
    "from models.resnet50_cifar10 import ComposedModel as ResNet50\n",
    "from models.vgg16_bn_cifar10 import ComposedModel as VGG16_bn\n",
    "from datasets.cifar10 import load_dataset,BATCH_SIZE\n",
    "from torch.utils.data import DataLoader\n",
    "from pruning.taylor import Taylor\n",
    "from indicator.builtin import metric\n",
    "from utils import check_device\n",
    "from pruning.utils import analyze_pruning\n",
    "from explanation.visualization import plot\n",
    "device = check_device()"
   ]
  },
  {
   "cell_type": "markdown",
   "metadata": {},
   "source": [
    "# Initialize the model"
   ]
  },
  {
   "cell_type": "code",
   "execution_count": 2,
   "metadata": {},
   "outputs": [
    {
     "ename": "FileNotFoundError",
     "evalue": "[Errno 2] No such file or directory: 'ckpt/densenet121.pt'",
     "output_type": "error",
     "traceback": [
      "\u001b[1;31m---------------------------------------------------------------------------\u001b[0m",
      "\u001b[1;31mFileNotFoundError\u001b[0m                         Traceback (most recent call last)",
      "\u001b[1;32mc:\\Users\\Zhangjiayu\\Documents\\GitHub\\Neural-testing\\example.ipynb 单元格 4\u001b[0m line \u001b[0;36m1\n\u001b[1;32m----> <a href='vscode-notebook-cell:/c%3A/Users/Zhangjiayu/Documents/GitHub/Neural-testing/example.ipynb#W3sZmlsZQ%3D%3D?line=0'>1</a>\u001b[0m densenet121 \u001b[39m=\u001b[39m DenseNet121()\u001b[39m.\u001b[39;49mget_model()\n\u001b[0;32m      <a href='vscode-notebook-cell:/c%3A/Users/Zhangjiayu/Documents/GitHub/Neural-testing/example.ipynb#W3sZmlsZQ%3D%3D?line=1'>2</a>\u001b[0m googlenet \u001b[39m=\u001b[39m GoogleNet()\u001b[39m.\u001b[39mget_model()\n\u001b[0;32m      <a href='vscode-notebook-cell:/c%3A/Users/Zhangjiayu/Documents/GitHub/Neural-testing/example.ipynb#W3sZmlsZQ%3D%3D?line=2'>3</a>\u001b[0m inception_v3 \u001b[39m=\u001b[39m InceptionV3()\u001b[39m.\u001b[39mget_model()\n",
      "File \u001b[1;32mc:\\Users\\Zhangjiayu\\Documents\\GitHub\\Neural-testing\\models\\densenet121_cifar10.py:22\u001b[0m, in \u001b[0;36mComposedModel.get_model\u001b[1;34m(self)\u001b[0m\n\u001b[0;32m     19\u001b[0m \u001b[39mdef\u001b[39;00m \u001b[39mget_model\u001b[39m(\u001b[39mself\u001b[39m):\n\u001b[0;32m     20\u001b[0m      \u001b[39m# modify this line to use your own model\u001b[39;00m\n\u001b[0;32m     21\u001b[0m     \u001b[39mself\u001b[39m\u001b[39m.\u001b[39mmodel \u001b[39m=\u001b[39m densenet121(num_classes\u001b[39m=\u001b[39m\u001b[39m10\u001b[39m)\n\u001b[1;32m---> 22\u001b[0m     state_dict \u001b[39m=\u001b[39m torch\u001b[39m.\u001b[39;49mload(\u001b[39m'\u001b[39;49m\u001b[39mckpt/densenet121.pt\u001b[39;49m\u001b[39m'\u001b[39;49m, map_location\u001b[39m=\u001b[39;49mdevice)\n\u001b[0;32m     23\u001b[0m     \u001b[39mself\u001b[39m\u001b[39m.\u001b[39mmodel\u001b[39m.\u001b[39mload_state_dict(state_dict) \u001b[39m# load state dict\u001b[39;00m\n\u001b[0;32m     24\u001b[0m     \u001b[39mself\u001b[39m\u001b[39m.\u001b[39moutput_model \u001b[39m=\u001b[39m nn\u001b[39m.\u001b[39mSequential()\n",
      "File \u001b[1;32mc:\\Users\\Zhangjiayu\\miniconda3\\Lib\\site-packages\\torch\\serialization.py:791\u001b[0m, in \u001b[0;36mload\u001b[1;34m(f, map_location, pickle_module, weights_only, **pickle_load_args)\u001b[0m\n\u001b[0;32m    788\u001b[0m \u001b[39mif\u001b[39;00m \u001b[39m'\u001b[39m\u001b[39mencoding\u001b[39m\u001b[39m'\u001b[39m \u001b[39mnot\u001b[39;00m \u001b[39min\u001b[39;00m pickle_load_args\u001b[39m.\u001b[39mkeys():\n\u001b[0;32m    789\u001b[0m     pickle_load_args[\u001b[39m'\u001b[39m\u001b[39mencoding\u001b[39m\u001b[39m'\u001b[39m] \u001b[39m=\u001b[39m \u001b[39m'\u001b[39m\u001b[39mutf-8\u001b[39m\u001b[39m'\u001b[39m\n\u001b[1;32m--> 791\u001b[0m \u001b[39mwith\u001b[39;00m _open_file_like(f, \u001b[39m'\u001b[39;49m\u001b[39mrb\u001b[39;49m\u001b[39m'\u001b[39;49m) \u001b[39mas\u001b[39;00m opened_file:\n\u001b[0;32m    792\u001b[0m     \u001b[39mif\u001b[39;00m _is_zipfile(opened_file):\n\u001b[0;32m    793\u001b[0m         \u001b[39m# The zipfile reader is going to advance the current file position.\u001b[39;00m\n\u001b[0;32m    794\u001b[0m         \u001b[39m# If we want to actually tail call to torch.jit.load, we need to\u001b[39;00m\n\u001b[0;32m    795\u001b[0m         \u001b[39m# reset back to the original position.\u001b[39;00m\n\u001b[0;32m    796\u001b[0m         orig_position \u001b[39m=\u001b[39m opened_file\u001b[39m.\u001b[39mtell()\n",
      "File \u001b[1;32mc:\\Users\\Zhangjiayu\\miniconda3\\Lib\\site-packages\\torch\\serialization.py:271\u001b[0m, in \u001b[0;36m_open_file_like\u001b[1;34m(name_or_buffer, mode)\u001b[0m\n\u001b[0;32m    269\u001b[0m \u001b[39mdef\u001b[39;00m \u001b[39m_open_file_like\u001b[39m(name_or_buffer, mode):\n\u001b[0;32m    270\u001b[0m     \u001b[39mif\u001b[39;00m _is_path(name_or_buffer):\n\u001b[1;32m--> 271\u001b[0m         \u001b[39mreturn\u001b[39;00m _open_file(name_or_buffer, mode)\n\u001b[0;32m    272\u001b[0m     \u001b[39melse\u001b[39;00m:\n\u001b[0;32m    273\u001b[0m         \u001b[39mif\u001b[39;00m \u001b[39m'\u001b[39m\u001b[39mw\u001b[39m\u001b[39m'\u001b[39m \u001b[39min\u001b[39;00m mode:\n",
      "File \u001b[1;32mc:\\Users\\Zhangjiayu\\miniconda3\\Lib\\site-packages\\torch\\serialization.py:252\u001b[0m, in \u001b[0;36m_open_file.__init__\u001b[1;34m(self, name, mode)\u001b[0m\n\u001b[0;32m    251\u001b[0m \u001b[39mdef\u001b[39;00m \u001b[39m__init__\u001b[39m(\u001b[39mself\u001b[39m, name, mode):\n\u001b[1;32m--> 252\u001b[0m     \u001b[39msuper\u001b[39m()\u001b[39m.\u001b[39m\u001b[39m__init__\u001b[39m(\u001b[39mopen\u001b[39;49m(name, mode))\n",
      "\u001b[1;31mFileNotFoundError\u001b[0m: [Errno 2] No such file or directory: 'ckpt/densenet121.pt'"
     ]
    }
   ],
   "source": [
    "densenet121 = DenseNet121().get_model()\n",
    "googlenet = GoogleNet().get_model()\n",
    "inception_v3 = InceptionV3().get_model()\n",
    "mobilenet_v2 = MobileNetV2().get_model()\n",
    "resnet50 = ResNet50().get_model()\n",
    "vgg16_bn = VGG16_bn().get_model()"
   ]
  },
  {
   "cell_type": "markdown",
   "metadata": {},
   "source": [
    "# Load the data"
   ]
  },
  {
   "cell_type": "code",
   "execution_count": null,
   "metadata": {},
   "outputs": [
    {
     "name": "stdout",
     "output_type": "stream",
     "text": [
      "Files already downloaded and verified\n",
      "Files already downloaded and verified\n"
     ]
    }
   ],
   "source": [
    "train_dataset, test_dataset = load_dataset()\n",
    "train_dataloader = DataLoader(train_dataset, batch_size=BATCH_SIZE, shuffle=True)\n",
    "test_dataloader = DataLoader(test_dataset, batch_size=BATCH_SIZE, shuffle=False)"
   ]
  },
  {
   "cell_type": "markdown",
   "metadata": {},
   "source": [
    "# Mutate the data"
   ]
  },
  {
   "cell_type": "markdown",
   "metadata": {},
   "source": [
    "#### LabelError use p = 0.1"
   ]
  },
  {
   "cell_type": "code",
   "execution_count": null,
   "metadata": {},
   "outputs": [],
   "source": [
    "labelerror = LabelError(0.1,num_classes=10)\n",
    "labelerror_dataloader = DataLoader(test_dataloader.dataset,batch_size=BATCH_SIZE,shuffle=False,collate_fn=labelerror)"
   ]
  },
  {
   "cell_type": "code",
   "execution_count": null,
   "metadata": {},
   "outputs": [],
   "source": [
    "# metric labelerror data\n",
    "metrics_densenet121, class_report_densenet121 = metric(densenet121,labelerror_dataloader,num_classes=10)\n",
    "metrics_googlenet, class_report_googlenet = metric(googlenet,labelerror_dataloader,num_classes=10)\n",
    "metrics_inception_v3, class_report_inception_v3 = metric(inception_v3,labelerror_dataloader,num_classes=10)\n",
    "metrics_mobilenet_v2, class_report_mobilenet_v2 = metric(mobilenet_v2,labelerror_dataloader,num_classes=10)\n",
    "metrics_resnet50, class_report_resnet50 = metric(resnet50,labelerror_dataloader,num_classes=10)\n",
    "metrics_vgg16_bn, class_report_vgg16_bn = metric(vgg16_bn,labelerror_dataloader,num_classes=10)"
   ]
  },
  {
   "cell_type": "code",
   "execution_count": null,
   "metadata": {},
   "outputs": [
    {
     "data": {
      "text/html": [
       "<div>\n",
       "<style scoped>\n",
       "    .dataframe tbody tr th:only-of-type {\n",
       "        vertical-align: middle;\n",
       "    }\n",
       "\n",
       "    .dataframe tbody tr th {\n",
       "        vertical-align: top;\n",
       "    }\n",
       "\n",
       "    .dataframe thead th {\n",
       "        text-align: right;\n",
       "    }\n",
       "</style>\n",
       "<table border=\"1\" class=\"dataframe\">\n",
       "  <thead>\n",
       "    <tr style=\"text-align: right;\">\n",
       "      <th></th>\n",
       "      <th>Metric</th>\n",
       "      <th>Value</th>\n",
       "    </tr>\n",
       "  </thead>\n",
       "  <tbody>\n",
       "    <tr>\n",
       "      <th>0</th>\n",
       "      <td>Accuracy</td>\n",
       "      <td>0.8439</td>\n",
       "    </tr>\n",
       "    <tr>\n",
       "      <th>1</th>\n",
       "      <td>Loss</td>\n",
       "      <td>1.6318</td>\n",
       "    </tr>\n",
       "    <tr>\n",
       "      <th>2</th>\n",
       "      <td>TPR</td>\n",
       "      <td>0.8440</td>\n",
       "    </tr>\n",
       "    <tr>\n",
       "      <th>3</th>\n",
       "      <td>TNR</td>\n",
       "      <td>0.9827</td>\n",
       "    </tr>\n",
       "    <tr>\n",
       "      <th>4</th>\n",
       "      <td>PPV</td>\n",
       "      <td>0.8439</td>\n",
       "    </tr>\n",
       "    <tr>\n",
       "      <th>5</th>\n",
       "      <td>NPV</td>\n",
       "      <td>0.9827</td>\n",
       "    </tr>\n",
       "    <tr>\n",
       "      <th>6</th>\n",
       "      <td>FPR</td>\n",
       "      <td>0.0173</td>\n",
       "    </tr>\n",
       "    <tr>\n",
       "      <th>7</th>\n",
       "      <td>FNR</td>\n",
       "      <td>0.1560</td>\n",
       "    </tr>\n",
       "    <tr>\n",
       "      <th>8</th>\n",
       "      <td>FDR</td>\n",
       "      <td>0.1561</td>\n",
       "    </tr>\n",
       "    <tr>\n",
       "      <th>9</th>\n",
       "      <td>ROC_AUC</td>\n",
       "      <td>0.9413</td>\n",
       "    </tr>\n",
       "  </tbody>\n",
       "</table>\n",
       "</div>"
      ],
      "text/plain": [
       "     Metric   Value\n",
       "0  Accuracy  0.8439\n",
       "1      Loss  1.6318\n",
       "2       TPR  0.8440\n",
       "3       TNR  0.9827\n",
       "4       PPV  0.8439\n",
       "5       NPV  0.9827\n",
       "6       FPR  0.0173\n",
       "7       FNR  0.1560\n",
       "8       FDR  0.1561\n",
       "9   ROC_AUC  0.9413"
      ]
     },
     "execution_count": 6,
     "metadata": {},
     "output_type": "execute_result"
    }
   ],
   "source": [
    "metrics_resnet50"
   ]
  },
  {
   "cell_type": "code",
   "execution_count": null,
   "metadata": {},
   "outputs": [
    {
     "data": {
      "text/html": [
       "<div>\n",
       "<style scoped>\n",
       "    .dataframe tbody tr th:only-of-type {\n",
       "        vertical-align: middle;\n",
       "    }\n",
       "\n",
       "    .dataframe tbody tr th {\n",
       "        vertical-align: top;\n",
       "    }\n",
       "\n",
       "    .dataframe thead th {\n",
       "        text-align: right;\n",
       "    }\n",
       "</style>\n",
       "<table border=\"1\" class=\"dataframe\">\n",
       "  <thead>\n",
       "    <tr style=\"text-align: right;\">\n",
       "      <th></th>\n",
       "      <th>precision</th>\n",
       "      <th>recall</th>\n",
       "      <th>f1-score</th>\n",
       "      <th>support</th>\n",
       "    </tr>\n",
       "  </thead>\n",
       "  <tbody>\n",
       "    <tr>\n",
       "      <th>0</th>\n",
       "      <td>0.8419</td>\n",
       "      <td>0.8632</td>\n",
       "      <td>0.8524</td>\n",
       "      <td>987.0000</td>\n",
       "    </tr>\n",
       "    <tr>\n",
       "      <th>1</th>\n",
       "      <td>0.8549</td>\n",
       "      <td>0.8731</td>\n",
       "      <td>0.8639</td>\n",
       "      <td>985.0000</td>\n",
       "    </tr>\n",
       "    <tr>\n",
       "      <th>2</th>\n",
       "      <td>0.8391</td>\n",
       "      <td>0.8248</td>\n",
       "      <td>0.8319</td>\n",
       "      <td>993.0000</td>\n",
       "    </tr>\n",
       "    <tr>\n",
       "      <th>3</th>\n",
       "      <td>0.7986</td>\n",
       "      <td>0.7655</td>\n",
       "      <td>0.7817</td>\n",
       "      <td>1015.0000</td>\n",
       "    </tr>\n",
       "    <tr>\n",
       "      <th>4</th>\n",
       "      <td>0.8426</td>\n",
       "      <td>0.8409</td>\n",
       "      <td>0.8417</td>\n",
       "      <td>1012.0000</td>\n",
       "    </tr>\n",
       "    <tr>\n",
       "      <th>5</th>\n",
       "      <td>0.7971</td>\n",
       "      <td>0.8318</td>\n",
       "      <td>0.8141</td>\n",
       "      <td>987.0000</td>\n",
       "    </tr>\n",
       "    <tr>\n",
       "      <th>6</th>\n",
       "      <td>0.8597</td>\n",
       "      <td>0.8495</td>\n",
       "      <td>0.8546</td>\n",
       "      <td>1003.0000</td>\n",
       "    </tr>\n",
       "    <tr>\n",
       "      <th>7</th>\n",
       "      <td>0.8735</td>\n",
       "      <td>0.8569</td>\n",
       "      <td>0.8651</td>\n",
       "      <td>999.0000</td>\n",
       "    </tr>\n",
       "    <tr>\n",
       "      <th>8</th>\n",
       "      <td>0.8577</td>\n",
       "      <td>0.8637</td>\n",
       "      <td>0.8607</td>\n",
       "      <td>1005.0000</td>\n",
       "    </tr>\n",
       "    <tr>\n",
       "      <th>9</th>\n",
       "      <td>0.8743</td>\n",
       "      <td>0.8708</td>\n",
       "      <td>0.8725</td>\n",
       "      <td>1014.0000</td>\n",
       "    </tr>\n",
       "    <tr>\n",
       "      <th>accuracy</th>\n",
       "      <td>0.8439</td>\n",
       "      <td>0.8439</td>\n",
       "      <td>0.8439</td>\n",
       "      <td>0.8439</td>\n",
       "    </tr>\n",
       "    <tr>\n",
       "      <th>macro avg</th>\n",
       "      <td>0.8439</td>\n",
       "      <td>0.8440</td>\n",
       "      <td>0.8439</td>\n",
       "      <td>10000.0000</td>\n",
       "    </tr>\n",
       "    <tr>\n",
       "      <th>weighted avg</th>\n",
       "      <td>0.8440</td>\n",
       "      <td>0.8439</td>\n",
       "      <td>0.8438</td>\n",
       "      <td>10000.0000</td>\n",
       "    </tr>\n",
       "  </tbody>\n",
       "</table>\n",
       "</div>"
      ],
      "text/plain": [
       "              precision  recall  f1-score     support\n",
       "0                0.8419  0.8632    0.8524    987.0000\n",
       "1                0.8549  0.8731    0.8639    985.0000\n",
       "2                0.8391  0.8248    0.8319    993.0000\n",
       "3                0.7986  0.7655    0.7817   1015.0000\n",
       "4                0.8426  0.8409    0.8417   1012.0000\n",
       "5                0.7971  0.8318    0.8141    987.0000\n",
       "6                0.8597  0.8495    0.8546   1003.0000\n",
       "7                0.8735  0.8569    0.8651    999.0000\n",
       "8                0.8577  0.8637    0.8607   1005.0000\n",
       "9                0.8743  0.8708    0.8725   1014.0000\n",
       "accuracy         0.8439  0.8439    0.8439      0.8439\n",
       "macro avg        0.8439  0.8440    0.8439  10000.0000\n",
       "weighted avg     0.8440  0.8439    0.8438  10000.0000"
      ]
     },
     "execution_count": 7,
     "metadata": {},
     "output_type": "execute_result"
    }
   ],
   "source": [
    "class_report_resnet50"
   ]
  },
  {
   "cell_type": "markdown",
   "metadata": {},
   "source": [
    "#### Noiseperturb use std = 0.05"
   ]
  },
  {
   "cell_type": "code",
   "execution_count": null,
   "metadata": {},
   "outputs": [],
   "source": [
    "noiseperturb = NoisePerturb(0.05)\n",
    "noiseperturb_dataloader = DataLoader(test_dataloader.dataset,batch_size=BATCH_SIZE,shuffle=False,collate_fn=noiseperturb)"
   ]
  },
  {
   "cell_type": "code",
   "execution_count": null,
   "metadata": {},
   "outputs": [],
   "source": [
    "# metric noiseperturb data\n",
    "metrics_densenet121, class_report_densenet121 = metric(densenet121,noiseperturb_dataloader,num_classes=10)\n",
    "metrics_googlenet, class_report_googlenet = metric(googlenet,noiseperturb_dataloader,num_classes=10)\n",
    "metrics_inception_v3, class_report_inception_v3 = metric(inception_v3,noiseperturb_dataloader,num_classes=10)\n",
    "metrics_mobilenet_v2, class_report_mobilenet_v2 = metric(mobilenet_v2,noiseperturb_dataloader,num_classes=10)\n",
    "metrics_resnet50, class_report_resnet50 = metric(resnet50,noiseperturb_dataloader,num_classes=10)\n",
    "metrics_vgg16_bn, class_report_vgg16_bn = metric(vgg16_bn,noiseperturb_dataloader,num_classes=10)"
   ]
  },
  {
   "cell_type": "code",
   "execution_count": null,
   "metadata": {},
   "outputs": [
    {
     "data": {
      "text/html": [
       "<div>\n",
       "<style scoped>\n",
       "    .dataframe tbody tr th:only-of-type {\n",
       "        vertical-align: middle;\n",
       "    }\n",
       "\n",
       "    .dataframe tbody tr th {\n",
       "        vertical-align: top;\n",
       "    }\n",
       "\n",
       "    .dataframe thead th {\n",
       "        text-align: right;\n",
       "    }\n",
       "</style>\n",
       "<table border=\"1\" class=\"dataframe\">\n",
       "  <thead>\n",
       "    <tr style=\"text-align: right;\">\n",
       "      <th></th>\n",
       "      <th>Metric</th>\n",
       "      <th>Value</th>\n",
       "    </tr>\n",
       "  </thead>\n",
       "  <tbody>\n",
       "    <tr>\n",
       "      <th>0</th>\n",
       "      <td>Accuracy</td>\n",
       "      <td>0.7837</td>\n",
       "    </tr>\n",
       "    <tr>\n",
       "      <th>1</th>\n",
       "      <td>Loss</td>\n",
       "      <td>1.6942</td>\n",
       "    </tr>\n",
       "    <tr>\n",
       "      <th>2</th>\n",
       "      <td>TPR</td>\n",
       "      <td>0.7837</td>\n",
       "    </tr>\n",
       "    <tr>\n",
       "      <th>3</th>\n",
       "      <td>TNR</td>\n",
       "      <td>0.9760</td>\n",
       "    </tr>\n",
       "    <tr>\n",
       "      <th>4</th>\n",
       "      <td>PPV</td>\n",
       "      <td>0.8300</td>\n",
       "    </tr>\n",
       "    <tr>\n",
       "      <th>5</th>\n",
       "      <td>NPV</td>\n",
       "      <td>0.9765</td>\n",
       "    </tr>\n",
       "    <tr>\n",
       "      <th>6</th>\n",
       "      <td>FPR</td>\n",
       "      <td>0.0240</td>\n",
       "    </tr>\n",
       "    <tr>\n",
       "      <th>7</th>\n",
       "      <td>FNR</td>\n",
       "      <td>0.2163</td>\n",
       "    </tr>\n",
       "    <tr>\n",
       "      <th>8</th>\n",
       "      <td>FDR</td>\n",
       "      <td>0.1700</td>\n",
       "    </tr>\n",
       "    <tr>\n",
       "      <th>9</th>\n",
       "      <td>ROC_AUC</td>\n",
       "      <td>0.9634</td>\n",
       "    </tr>\n",
       "  </tbody>\n",
       "</table>\n",
       "</div>"
      ],
      "text/plain": [
       "     Metric   Value\n",
       "0  Accuracy  0.7837\n",
       "1      Loss  1.6942\n",
       "2       TPR  0.7837\n",
       "3       TNR  0.9760\n",
       "4       PPV  0.8300\n",
       "5       NPV  0.9765\n",
       "6       FPR  0.0240\n",
       "7       FNR  0.2163\n",
       "8       FDR  0.1700\n",
       "9   ROC_AUC  0.9634"
      ]
     },
     "execution_count": 10,
     "metadata": {},
     "output_type": "execute_result"
    }
   ],
   "source": [
    "metrics_resnet50"
   ]
  },
  {
   "cell_type": "code",
   "execution_count": null,
   "metadata": {},
   "outputs": [
    {
     "data": {
      "text/html": [
       "<div>\n",
       "<style scoped>\n",
       "    .dataframe tbody tr th:only-of-type {\n",
       "        vertical-align: middle;\n",
       "    }\n",
       "\n",
       "    .dataframe tbody tr th {\n",
       "        vertical-align: top;\n",
       "    }\n",
       "\n",
       "    .dataframe thead th {\n",
       "        text-align: right;\n",
       "    }\n",
       "</style>\n",
       "<table border=\"1\" class=\"dataframe\">\n",
       "  <thead>\n",
       "    <tr style=\"text-align: right;\">\n",
       "      <th></th>\n",
       "      <th>precision</th>\n",
       "      <th>recall</th>\n",
       "      <th>f1-score</th>\n",
       "      <th>support</th>\n",
       "    </tr>\n",
       "  </thead>\n",
       "  <tbody>\n",
       "    <tr>\n",
       "      <th>0</th>\n",
       "      <td>0.9380</td>\n",
       "      <td>0.7110</td>\n",
       "      <td>0.8089</td>\n",
       "      <td>1000.0000</td>\n",
       "    </tr>\n",
       "    <tr>\n",
       "      <th>1</th>\n",
       "      <td>0.9665</td>\n",
       "      <td>0.8940</td>\n",
       "      <td>0.9288</td>\n",
       "      <td>1000.0000</td>\n",
       "    </tr>\n",
       "    <tr>\n",
       "      <th>2</th>\n",
       "      <td>0.7348</td>\n",
       "      <td>0.8090</td>\n",
       "      <td>0.7701</td>\n",
       "      <td>1000.0000</td>\n",
       "    </tr>\n",
       "    <tr>\n",
       "      <th>3</th>\n",
       "      <td>0.8276</td>\n",
       "      <td>0.4850</td>\n",
       "      <td>0.6116</td>\n",
       "      <td>1000.0000</td>\n",
       "    </tr>\n",
       "    <tr>\n",
       "      <th>4</th>\n",
       "      <td>0.6955</td>\n",
       "      <td>0.8610</td>\n",
       "      <td>0.7694</td>\n",
       "      <td>1000.0000</td>\n",
       "    </tr>\n",
       "    <tr>\n",
       "      <th>5</th>\n",
       "      <td>0.9120</td>\n",
       "      <td>0.5700</td>\n",
       "      <td>0.7015</td>\n",
       "      <td>1000.0000</td>\n",
       "    </tr>\n",
       "    <tr>\n",
       "      <th>6</th>\n",
       "      <td>0.4942</td>\n",
       "      <td>0.9740</td>\n",
       "      <td>0.6557</td>\n",
       "      <td>1000.0000</td>\n",
       "    </tr>\n",
       "    <tr>\n",
       "      <th>7</th>\n",
       "      <td>0.9680</td>\n",
       "      <td>0.7570</td>\n",
       "      <td>0.8496</td>\n",
       "      <td>1000.0000</td>\n",
       "    </tr>\n",
       "    <tr>\n",
       "      <th>8</th>\n",
       "      <td>0.8779</td>\n",
       "      <td>0.8630</td>\n",
       "      <td>0.8704</td>\n",
       "      <td>1000.0000</td>\n",
       "    </tr>\n",
       "    <tr>\n",
       "      <th>9</th>\n",
       "      <td>0.8855</td>\n",
       "      <td>0.9130</td>\n",
       "      <td>0.8991</td>\n",
       "      <td>1000.0000</td>\n",
       "    </tr>\n",
       "    <tr>\n",
       "      <th>accuracy</th>\n",
       "      <td>0.7837</td>\n",
       "      <td>0.7837</td>\n",
       "      <td>0.7837</td>\n",
       "      <td>0.7837</td>\n",
       "    </tr>\n",
       "    <tr>\n",
       "      <th>macro avg</th>\n",
       "      <td>0.8300</td>\n",
       "      <td>0.7837</td>\n",
       "      <td>0.7865</td>\n",
       "      <td>10000.0000</td>\n",
       "    </tr>\n",
       "    <tr>\n",
       "      <th>weighted avg</th>\n",
       "      <td>0.8300</td>\n",
       "      <td>0.7837</td>\n",
       "      <td>0.7865</td>\n",
       "      <td>10000.0000</td>\n",
       "    </tr>\n",
       "  </tbody>\n",
       "</table>\n",
       "</div>"
      ],
      "text/plain": [
       "              precision  recall  f1-score     support\n",
       "0                0.9380  0.7110    0.8089   1000.0000\n",
       "1                0.9665  0.8940    0.9288   1000.0000\n",
       "2                0.7348  0.8090    0.7701   1000.0000\n",
       "3                0.8276  0.4850    0.6116   1000.0000\n",
       "4                0.6955  0.8610    0.7694   1000.0000\n",
       "5                0.9120  0.5700    0.7015   1000.0000\n",
       "6                0.4942  0.9740    0.6557   1000.0000\n",
       "7                0.9680  0.7570    0.8496   1000.0000\n",
       "8                0.8779  0.8630    0.8704   1000.0000\n",
       "9                0.8855  0.9130    0.8991   1000.0000\n",
       "accuracy         0.7837  0.7837    0.7837      0.7837\n",
       "macro avg        0.8300  0.7837    0.7865  10000.0000\n",
       "weighted avg     0.8300  0.7837    0.7865  10000.0000"
      ]
     },
     "execution_count": 11,
     "metadata": {},
     "output_type": "execute_result"
    }
   ],
   "source": [
    "class_report_resnet50"
   ]
  },
  {
   "cell_type": "markdown",
   "metadata": {},
   "source": [
    "# Pruing"
   ]
  },
  {
   "cell_type": "markdown",
   "metadata": {},
   "source": [
    "#### pruning model use taylor"
   ]
  },
  {
   "cell_type": "code",
   "execution_count": null,
   "metadata": {},
   "outputs": [],
   "source": [
    "taylor = Taylor(pruning_ratio=0.6)"
   ]
  },
  {
   "cell_type": "code",
   "execution_count": null,
   "metadata": {},
   "outputs": [
    {
     "name": "stderr",
     "output_type": "stream",
     "text": [
      "  0%|          | 1/391 [00:00<00:51,  7.59it/s]"
     ]
    },
    {
     "name": "stderr",
     "output_type": "stream",
     "text": [
      "100%|██████████| 391/391 [00:12<00:00, 30.53it/s]\n",
      "100%|██████████| 120/120 [00:00<00:00, 13199.32it/s]\n",
      "100%|██████████| 391/391 [00:26<00:00, 14.51it/s]\n",
      "100%|██████████| 55/55 [00:00<00:00, 7838.22it/s]\n",
      "100%|██████████| 391/391 [01:13<00:00,  5.32it/s]\n",
      "100%|██████████| 90/90 [00:00<00:00, 9668.75it/s]\n",
      "100%|██████████| 391/391 [00:07<00:00, 49.09it/s]\n",
      "100%|██████████| 52/52 [00:00<00:00, 8732.19it/s]\n",
      "100%|██████████| 391/391 [00:08<00:00, 43.86it/s]\n",
      "100%|██████████| 53/53 [00:00<00:00, 7299.71it/s]\n",
      "100%|██████████| 391/391 [00:05<00:00, 68.16it/s]\n",
      "100%|██████████| 30/30 [00:00<00:00, 4424.68it/s]\n"
     ]
    }
   ],
   "source": [
    "pruned_densenet121 = taylor(densenet121,train_dataloader)\n",
    "pruned_googlenet = taylor(googlenet,train_dataloader)\n",
    "pruned_inception_v3 = taylor(inception_v3,train_dataloader)\n",
    "pruned_mobilenet_v2 = taylor(mobilenet_v2,train_dataloader)\n",
    "pruned_resnet50 = taylor(resnet50,train_dataloader)\n",
    "pruned_vgg16_bn = taylor(vgg16_bn,train_dataloader)"
   ]
  },
  {
   "cell_type": "code",
   "execution_count": null,
   "metadata": {},
   "outputs": [
    {
     "data": {
      "image/png": "[encoded data removed]",
      "text/plain": [
       "<Figure size 800x600 with 1 Axes>"
      ]
     },
     "metadata": {},
     "output_type": "display_data"
    }
   ],
   "source": [
    "analyze_pruning(resnet50,pruned_resnet50,test_dataloader)"
   ]
  },
  {
   "cell_type": "markdown",
   "metadata": {},
   "source": [
    "# Adversarial Attack"
   ]
  },
  {
   "cell_type": "markdown",
   "metadata": {},
   "source": [
    "#### Transferability on unpruned model use adv examples generated by unpruned model"
   ]
  },
  {
   "cell_type": "code",
   "execution_count": null,
   "metadata": {},
   "outputs": [
    {
     "name": "stdout",
     "output_type": "stream",
     "text": [
      "Succeed rate: 0.9865999817848206\n",
      "Transferability:\n",
      "densenet121: 0.5939000248908997\n",
      "googlenet: 0.5559999942779541\n",
      "inception_v3: 0.6064000129699707\n",
      "mobilenet_v2: 0.6736999750137329\n",
      "vgg16_bn: 0.5608000159263611\n"
     ]
    }
   ],
   "source": [
    "adv_data,original_data = run_attack(resnet50,method=PGD,dataloader=test_dataloader,transfer_models={\"densenet121\":densenet121,\"googlenet\":googlenet,\"inception_v3\":inception_v3,\"mobilenet_v2\":mobilenet_v2,\"vgg16_bn\":vgg16_bn},eps=8/255,alpha=2/255,steps=10)"
   ]
  },
  {
   "cell_type": "code",
   "execution_count": null,
   "metadata": {},
   "outputs": [
    {
     "data": {
      "image/png": "[encoded data removed]",
      "text/plain": [
       "<Figure size 1000x500 with 2 Axes>"
      ]
     },
     "metadata": {},
     "output_type": "display_data"
    }
   ],
   "source": [
    "plot_adversarial_sample(adv_data[0],original_data[0])"
   ]
  },
  {
   "cell_type": "markdown",
   "metadata": {},
   "source": [
    "#### Transferability on pruned model use adv examples generated by unpruned model"
   ]
  },
  {
   "cell_type": "code",
   "execution_count": null,
   "metadata": {},
   "outputs": [
    {
     "name": "stdout",
     "output_type": "stream",
     "text": [
      "Succeed rate: 0.986299991607666\n",
      "Transferability:\n",
      "pruned_densenet121: 0.593999981880188\n",
      "pruned_googlenet: 0.5597000122070312\n",
      "pruned_inception_v3: 0.6067000031471252\n",
      "pruned_mobilenet_v2: 0.6722000241279602\n",
      "pruned_vgg16_bn: 0.570900022983551\n"
     ]
    }
   ],
   "source": [
    "adv_data,original_data = run_attack(resnet50,method=PGD,dataloader=test_dataloader,transfer_models={\"pruned_densenet121\":pruned_densenet121,\"pruned_googlenet\":pruned_googlenet,\"pruned_inception_v3\":pruned_inception_v3,\"pruned_mobilenet_v2\":pruned_mobilenet_v2,\"pruned_vgg16_bn\":pruned_vgg16_bn},eps=8/255,alpha=2/255,steps=10)"
   ]
  },
  {
   "cell_type": "markdown",
   "metadata": {},
   "source": [
    "#### Transferability on unpruned model use adv examples generated by pruned model"
   ]
  },
  {
   "cell_type": "code",
   "execution_count": null,
   "metadata": {},
   "outputs": [
    {
     "name": "stdout",
     "output_type": "stream",
     "text": [
      "Succeed rate: 0.9930999875068665\n",
      "Transferability:\n",
      "densenet121: 0.6625999808311462\n",
      "googlenet: 0.6184999942779541\n",
      "inception_v3: 0.6658999919891357\n",
      "mobilenet_v2: 0.7321000099182129\n",
      "vgg16_bn: 0.6266999840736389\n"
     ]
    }
   ],
   "source": [
    "adv_data,original_data = run_attack(pruned_resnet50,method=PGD,dataloader=test_dataloader,transfer_models={\"densenet121\":densenet121,\"googlenet\":googlenet,\"inception_v3\":inception_v3,\"mobilenet_v2\":mobilenet_v2,\"vgg16_bn\":vgg16_bn},eps=8/255,alpha=2/255,steps=10)"
   ]
  },
  {
   "cell_type": "markdown",
   "metadata": {},
   "source": [
    "#### Transferability on pruned model use adv examples generated by pruned model"
   ]
  },
  {
   "cell_type": "code",
   "execution_count": null,
   "metadata": {},
   "outputs": [
    {
     "name": "stdout",
     "output_type": "stream",
     "text": [
      "Succeed rate: 0.9923999905586243\n",
      "Transferability:\n",
      "pruned_densenet121: 0.6607000231742859\n",
      "pruned_googlenet: 0.6201000213623047\n",
      "pruned_inception_v3: 0.6622999906539917\n",
      "pruned_mobilenet_v2: 0.7312999963760376\n",
      "pruned_vgg16_bn: 0.6298999786376953\n"
     ]
    }
   ],
   "source": [
    "adv_data,original_data = run_attack(pruned_resnet50,method=PGD,dataloader=test_dataloader,transfer_models={\"pruned_densenet121\":pruned_densenet121,\"pruned_googlenet\":pruned_googlenet,\"pruned_inception_v3\":pruned_inception_v3,\"pruned_mobilenet_v2\":pruned_mobilenet_v2,\"pruned_vgg16_bn\":pruned_vgg16_bn},eps=8/255,alpha=2/255,steps=10)"
   ]
  },
  {
   "cell_type": "markdown",
   "metadata": {},
   "source": [
    "# Model Explaination"
   ]
  },
  {
   "cell_type": "markdown",
   "metadata": {},
   "source": [
    "#### Explaination on unpruned model"
   ]
  },
  {
   "cell_type": "code",
   "execution_count": null,
   "metadata": {},
   "outputs": [
    {
     "name": "stderr",
     "output_type": "stream",
     "text": [
      "100%|██████████| 79/79 [01:02<00:00,  1.26it/s]\n"
     ]
    }
   ],
   "source": [
    "attributions,all_data = run_explanation(resnet50,test_dataloader,agi,topk=1,num_classes=10)"
   ]
  },
  {
   "cell_type": "code",
   "execution_count": null,
   "metadata": {},
   "outputs": [
    {
     "data": {
      "image/png": "[encoded data removed]",
      "text/plain": [
       "<Figure size 640x480 with 1 Axes>"
      ]
     },
     "metadata": {},
     "output_type": "display_data"
    }
   ],
   "source": [
    "plot(attributions[0:1],test_dataset[0][0].unsqueeze(0))"
   ]
  },
  {
   "cell_type": "code",
   "execution_count": null,
   "metadata": {},
   "outputs": [
    {
     "name": "stderr",
     "output_type": "stream",
     "text": [
      "Predicting labels: 100%|██████████| 100/100 [00:00<00:00, 152.68it/s]\n",
      "Substrate: 100%|██████████| 100/100 [00:00<00:00, 19267.33it/s]\n",
      "Deleting  pixels: 100%|██████████| 33/33 [00:28<00:00,  1.17it/s]\n",
      "Predicting labels: 100%|██████████| 100/100 [00:00<00:00, 155.16it/s]\n",
      "Substrate: 100%|██████████| 100/100 [00:00<00:00, 19175.71it/s]\n",
      "Inserting pixels: 100%|██████████| 33/33 [00:27<00:00,  1.18it/s]"
     ]
    },
    {
     "name": "stdout",
     "output_type": "stream",
     "text": [
      "Insertion:  0.38571213381254504\n",
      "Deletion:  0.19580324212971326\n"
     ]
    },
    {
     "name": "stderr",
     "output_type": "stream",
     "text": [
      "\n"
     ]
    }
   ],
   "source": [
    "caculate_insert_deletion(resnet50,all_data,attributions,32*32,10)"
   ]
  },
  {
   "cell_type": "markdown",
   "metadata": {},
   "source": [
    "##### Transferability on unpruned model"
   ]
  },
  {
   "cell_type": "code",
   "execution_count": null,
   "metadata": {},
   "outputs": [
    {
     "name": "stderr",
     "output_type": "stream",
     "text": [
      "Predicting labels: 100%|██████████| 100/100 [00:00<00:00, 309.63it/s]\n",
      "Substrate: 100%|██████████| 100/100 [00:00<00:00, 24653.52it/s]\n",
      "Deleting  pixels: 100%|██████████| 33/33 [00:17<00:00,  1.91it/s]\n",
      "Predicting labels: 100%|██████████| 100/100 [00:00<00:00, 313.29it/s]\n",
      "Substrate: 100%|██████████| 100/100 [00:00<00:00, 24739.32it/s]\n",
      "Inserting pixels: 100%|██████████| 33/33 [00:17<00:00,  1.91it/s]"
     ]
    },
    {
     "name": "stdout",
     "output_type": "stream",
     "text": [
      "Insertion:  0.3397182579661624\n",
      "Deletion:  0.18278575475659936\n"
     ]
    },
    {
     "name": "stderr",
     "output_type": "stream",
     "text": [
      "\n"
     ]
    }
   ],
   "source": [
    "caculate_insert_deletion(vgg16_bn,all_data,attributions,32*32,10)"
   ]
  },
  {
   "cell_type": "markdown",
   "metadata": {},
   "source": [
    "##### Transferability on pruned model"
   ]
  },
  {
   "cell_type": "code",
   "execution_count": null,
   "metadata": {},
   "outputs": [
    {
     "name": "stderr",
     "output_type": "stream",
     "text": [
      "Predicting labels: 100%|██████████| 100/100 [00:00<00:00, 318.25it/s]\n",
      "Substrate: 100%|██████████| 100/100 [00:00<00:00, 23986.64it/s]\n",
      "Deleting  pixels: 100%|██████████| 33/33 [00:17<00:00,  1.93it/s]\n",
      "Predicting labels: 100%|██████████| 100/100 [00:00<00:00, 318.70it/s]\n",
      "Substrate: 100%|██████████| 100/100 [00:00<00:00, 24180.24it/s]\n",
      "Inserting pixels: 100%|██████████| 33/33 [00:17<00:00,  1.92it/s]"
     ]
    },
    {
     "name": "stdout",
     "output_type": "stream",
     "text": [
      "Insertion:  0.3079782703520023\n",
      "Deletion:  0.17129055037723437\n"
     ]
    },
    {
     "name": "stderr",
     "output_type": "stream",
     "text": [
      "\n"
     ]
    }
   ],
   "source": [
    "caculate_insert_deletion(pruned_vgg16_bn,all_data,attributions,32*32,10)"
   ]
  },
  {
   "cell_type": "markdown",
   "metadata": {},
   "source": [
    "#### Explaination on pruned model"
   ]
  },
  {
   "cell_type": "code",
   "execution_count": null,
   "metadata": {},
   "outputs": [
    {
     "name": "stderr",
     "output_type": "stream",
     "text": [
      "100%|██████████| 79/79 [01:00<00:00,  1.30it/s]\n"
     ]
    }
   ],
   "source": [
    "attributions,all_data = run_explanation(pruned_resnet50,test_dataloader,agi,topk=1,num_classes=10)"
   ]
  },
  {
   "cell_type": "code",
   "execution_count": null,
   "metadata": {},
   "outputs": [
    {
     "data": {
      "image/png": "[encoded data removed]",
      "text/plain": [
       "<Figure size 640x480 with 1 Axes>"
      ]
     },
     "metadata": {},
     "output_type": "display_data"
    }
   ],
   "source": [
    "plot(attributions[0:1],test_dataset[0][0].unsqueeze(0))"
   ]
  },
  {
   "cell_type": "code",
   "execution_count": null,
   "metadata": {},
   "outputs": [
    {
     "name": "stderr",
     "output_type": "stream",
     "text": [
      "Predicting labels: 100%|██████████| 100/100 [00:00<00:00, 158.43it/s]\n",
      "Substrate: 100%|██████████| 100/100 [00:00<00:00, 23852.96it/s]\n",
      "Deleting  pixels: 100%|██████████| 33/33 [00:27<00:00,  1.20it/s]\n",
      "Predicting labels: 100%|██████████| 100/100 [00:00<00:00, 159.18it/s]\n",
      "Substrate: 100%|██████████| 100/100 [00:00<00:00, 21378.79it/s]\n",
      "Inserting pixels: 100%|██████████| 33/33 [00:27<00:00,  1.20it/s]"
     ]
    },
    {
     "name": "stdout",
     "output_type": "stream",
     "text": [
      "Insertion:  0.36796705675249597\n",
      "Deletion:  0.19033813336986208\n"
     ]
    },
    {
     "name": "stderr",
     "output_type": "stream",
     "text": [
      "\n"
     ]
    }
   ],
   "source": [
    "caculate_insert_deletion(pruned_resnet50,all_data,attributions,32*32,10)"
   ]
  },
  {
   "cell_type": "markdown",
   "metadata": {},
   "source": [
    "##### Transferability on unpruned model"
   ]
  },
  {
   "cell_type": "code",
   "execution_count": null,
   "metadata": {},
   "outputs": [
    {
     "name": "stderr",
     "output_type": "stream",
     "text": [
      "Predicting labels: 100%|██████████| 100/100 [00:00<00:00, 311.27it/s]\n",
      "Substrate: 100%|██████████| 100/100 [00:00<00:00, 20929.66it/s]\n",
      "Deleting  pixels: 100%|██████████| 33/33 [00:17<00:00,  1.92it/s]\n",
      "Predicting labels: 100%|██████████| 100/100 [00:00<00:00, 312.66it/s]\n",
      "Substrate: 100%|██████████| 100/100 [00:00<00:00, 22874.69it/s]\n",
      "Inserting pixels: 100%|██████████| 33/33 [00:17<00:00,  1.92it/s]"
     ]
    },
    {
     "name": "stdout",
     "output_type": "stream",
     "text": [
      "Insertion:  0.338391897702723\n",
      "Deletion:  0.18015595910379192\n"
     ]
    },
    {
     "name": "stderr",
     "output_type": "stream",
     "text": [
      "\n"
     ]
    }
   ],
   "source": [
    "caculate_insert_deletion(vgg16_bn,all_data,attributions,32*32,10)"
   ]
  },
  {
   "cell_type": "markdown",
   "metadata": {},
   "source": [
    "##### Transferability on pruned model"
   ]
  },
  {
   "cell_type": "code",
   "execution_count": null,
   "metadata": {},
   "outputs": [
    {
     "name": "stderr",
     "output_type": "stream",
     "text": [
      "Predicting labels: 100%|██████████| 100/100 [00:00<00:00, 318.07it/s]\n",
      "Substrate: 100%|██████████| 100/100 [00:00<00:00, 22817.45it/s]\n",
      "Deleting  pixels: 100%|██████████| 33/33 [00:17<00:00,  1.93it/s]\n",
      "Predicting labels: 100%|██████████| 100/100 [00:00<00:00, 319.15it/s]\n",
      "Substrate: 100%|██████████| 100/100 [00:00<00:00, 22811.25it/s]\n",
      "Inserting pixels: 100%|██████████| 33/33 [00:17<00:00,  1.93it/s]"
     ]
    },
    {
     "name": "stdout",
     "output_type": "stream",
     "text": [
      "Insertion:  0.30639018712236005\n",
      "Deletion:  0.16863562107675997\n"
     ]
    },
    {
     "name": "stderr",
     "output_type": "stream",
     "text": [
      "\n"
     ]
    }
   ],
   "source": [
    "caculate_insert_deletion(pruned_vgg16_bn,all_data,attributions,32*32,10)"
   ]
  },
  {
   "cell_type": "code",
   "execution_count": null,
   "metadata": {},
   "outputs": [],
   "source": []
  },
  {
   "cell_type": "code",
   "execution_count": null,
   "metadata": {},
   "outputs": [],
   "source": []
  }
 ],
 "metadata": {
  "kernelspec": {
   "display_name": "TDSC",
   "language": "python",
   "name": "python3"
  },
  "language_info": {
   "codemirror_mode": {
    "name": "ipython",
    "version": 3
   },
   "file_extension": ".py",
   "mimetype": "text/x-python",
   "name": "python",
   "nbconvert_exporter": "python",
   "pygments_lexer": "ipython3",
   "version": "3.11.4"
  }
 },
 "nbformat": 4,
 "nbformat_minor": 2
}
