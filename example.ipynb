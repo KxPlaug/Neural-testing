{
 "cells": [
  {
   "cell_type": "markdown",
   "metadata": {},
   "source": [
    "# Import necessary libraries"
   ]
  },
  {
   "cell_type": "code",
   "execution_count": 1,
   "metadata": {},
   "outputs": [],
   "source": [
    "from adversarial.imageclassification.pgd import PGD\n",
    "from adversarial.imageclassification.attack import run_attack,plot_adversarial_sample\n",
    "from explanation.saliency.saliency_zoo import agi,run_explanation\n",
    "from mutants.image_classification import LabelError,NoisePerturb\n",
    "from models.densenet121_cifar10 import ComposedModel as DenseNet121\n",
    "from models.googlenet_cifar10 import ComposedModel as GoogleNet\n",
    "from models.inception_v3_cifar10 import ComposedModel as InceptionV3\n",
    "from models.mobilenet_v2_cifar10 import ComposedModel as MobileNetV2\n",
    "from models.resnet50_cifar10 import ComposedModel as ResNet50\n",
    "from models.vgg16_bn_cifar10 import ComposedModel as VGG16_bn\n",
    "from datasets.cifar10 import load_dataset,BATCH_SIZE\n",
    "from torch.utils.data import DataLoader\n",
    "from pruning.taylor import Taylor\n",
    "from indicator.builtin import metric\n",
    "from utils import check_device\n",
    "device = check_device()"
   ]
  },
  {
   "cell_type": "markdown",
   "metadata": {},
   "source": [
    "# Initialize the model"
   ]
  },
  {
   "cell_type": "code",
   "execution_count": 2,
   "metadata": {},
   "outputs": [],
   "source": [
    "densenet121 = DenseNet121().get_model()\n",
    "googlenet = GoogleNet().get_model()\n",
    "inception_v3 = InceptionV3().get_model()\n",
    "mobilenet_v2 = MobileNetV2().get_model()\n",
    "resnet50 = ResNet50().get_model()\n",
    "vgg16_bn = VGG16_bn().get_model()"
   ]
  },
  {
   "cell_type": "markdown",
   "metadata": {},
   "source": [
    "# Load the data"
   ]
  },
  {
   "cell_type": "code",
   "execution_count": 3,
   "metadata": {},
   "outputs": [
    {
     "name": "stdout",
     "output_type": "stream",
     "text": [
      "Files already downloaded and verified\n",
      "Files already downloaded and verified\n"
     ]
    }
   ],
   "source": [
    "train_dataset, test_dataset = load_dataset()\n",
    "train_dataloader = DataLoader(train_dataset, batch_size=BATCH_SIZE, shuffle=True)\n",
    "test_dataloader = DataLoader(test_dataset, batch_size=BATCH_SIZE, shuffle=False)"
   ]
  },
  {
   "cell_type": "markdown",
   "metadata": {},
   "source": [
    "# Mutate the data"
   ]
  },
  {
   "cell_type": "markdown",
   "metadata": {},
   "source": [
    "#### LabelError use p = 0.1"
   ]
  },
  {
   "cell_type": "code",
   "execution_count": 4,
   "metadata": {},
   "outputs": [],
   "source": [
    "labelerror = LabelError(0.1,num_classes=10)\n",
    "labelerror_dataloader = DataLoader(test_dataloader.dataset,batch_size=BATCH_SIZE,shuffle=False,collate_fn=labelerror)"
   ]
  },
  {
   "cell_type": "code",
   "execution_count": 5,
   "metadata": {},
   "outputs": [],
   "source": [
    "# metric labelerror data\n",
    "metrics_densenet121, class_report_densenet121 = metric(densenet121,labelerror_dataloader,num_classes=10)\n",
    "metrics_googlenet, class_report_googlenet = metric(googlenet,labelerror_dataloader,num_classes=10)\n",
    "metrics_inception_v3, class_report_inception_v3 = metric(inception_v3,labelerror_dataloader,num_classes=10)\n",
    "metrics_mobilenet_v2, class_report_mobilenet_v2 = metric(mobilenet_v2,labelerror_dataloader,num_classes=10)\n",
    "metrics_resnet50, class_report_resnet50 = metric(resnet50,labelerror_dataloader,num_classes=10)\n",
    "metrics_vgg16_bn, class_report_vgg16_bn = metric(vgg16_bn,labelerror_dataloader,num_classes=10)"
   ]
  },
  {
   "cell_type": "code",
   "execution_count": 6,
   "metadata": {},
   "outputs": [
    {
     "data": {
      "text/html": [
       "<div>\n",
       "<style scoped>\n",
       "    .dataframe tbody tr th:only-of-type {\n",
       "        vertical-align: middle;\n",
       "    }\n",
       "\n",
       "    .dataframe tbody tr th {\n",
       "        vertical-align: top;\n",
       "    }\n",
       "\n",
       "    .dataframe thead th {\n",
       "        text-align: right;\n",
       "    }\n",
       "</style>\n",
       "<table border=\"1\" class=\"dataframe\">\n",
       "  <thead>\n",
       "    <tr style=\"text-align: right;\">\n",
       "      <th></th>\n",
       "      <th>Metric</th>\n",
       "      <th>Value</th>\n",
       "    </tr>\n",
       "  </thead>\n",
       "  <tbody>\n",
       "    <tr>\n",
       "      <th>0</th>\n",
       "      <td>Accuracy</td>\n",
       "      <td>0.8400</td>\n",
       "    </tr>\n",
       "    <tr>\n",
       "      <th>1</th>\n",
       "      <td>Loss</td>\n",
       "      <td>1.6353</td>\n",
       "    </tr>\n",
       "    <tr>\n",
       "      <th>2</th>\n",
       "      <td>TPR</td>\n",
       "      <td>0.8403</td>\n",
       "    </tr>\n",
       "    <tr>\n",
       "      <th>3</th>\n",
       "      <td>TNR</td>\n",
       "      <td>0.9822</td>\n",
       "    </tr>\n",
       "    <tr>\n",
       "      <th>4</th>\n",
       "      <td>PPV</td>\n",
       "      <td>0.8401</td>\n",
       "    </tr>\n",
       "    <tr>\n",
       "      <th>5</th>\n",
       "      <td>NPV</td>\n",
       "      <td>0.9822</td>\n",
       "    </tr>\n",
       "    <tr>\n",
       "      <th>6</th>\n",
       "      <td>FPR</td>\n",
       "      <td>0.0178</td>\n",
       "    </tr>\n",
       "    <tr>\n",
       "      <th>7</th>\n",
       "      <td>FNR</td>\n",
       "      <td>0.1597</td>\n",
       "    </tr>\n",
       "    <tr>\n",
       "      <th>8</th>\n",
       "      <td>FDR</td>\n",
       "      <td>0.1599</td>\n",
       "    </tr>\n",
       "    <tr>\n",
       "      <th>9</th>\n",
       "      <td>ROC_AUC</td>\n",
       "      <td>0.9388</td>\n",
       "    </tr>\n",
       "    <tr>\n",
       "      <th>10</th>\n",
       "      <td>FPS</td>\n",
       "      <td>32341.7210</td>\n",
       "    </tr>\n",
       "  </tbody>\n",
       "</table>\n",
       "</div>"
      ],
      "text/plain": [
       "      Metric       Value\n",
       "0   Accuracy      0.8400\n",
       "1       Loss      1.6353\n",
       "2        TPR      0.8403\n",
       "3        TNR      0.9822\n",
       "4        PPV      0.8401\n",
       "5        NPV      0.9822\n",
       "6        FPR      0.0178\n",
       "7        FNR      0.1597\n",
       "8        FDR      0.1599\n",
       "9    ROC_AUC      0.9388\n",
       "10       FPS  32341.7210"
      ]
     },
     "execution_count": 6,
     "metadata": {},
     "output_type": "execute_result"
    }
   ],
   "source": [
    "metrics_resnet50"
   ]
  },
  {
   "cell_type": "code",
   "execution_count": 7,
   "metadata": {},
   "outputs": [
    {
     "data": {
      "text/html": [
       "<div>\n",
       "<style scoped>\n",
       "    .dataframe tbody tr th:only-of-type {\n",
       "        vertical-align: middle;\n",
       "    }\n",
       "\n",
       "    .dataframe tbody tr th {\n",
       "        vertical-align: top;\n",
       "    }\n",
       "\n",
       "    .dataframe thead th {\n",
       "        text-align: right;\n",
       "    }\n",
       "</style>\n",
       "<table border=\"1\" class=\"dataframe\">\n",
       "  <thead>\n",
       "    <tr style=\"text-align: right;\">\n",
       "      <th></th>\n",
       "      <th>precision</th>\n",
       "      <th>recall</th>\n",
       "      <th>f1-score</th>\n",
       "      <th>support</th>\n",
       "    </tr>\n",
       "  </thead>\n",
       "  <tbody>\n",
       "    <tr>\n",
       "      <th>0</th>\n",
       "      <td>0.8370</td>\n",
       "      <td>0.8436</td>\n",
       "      <td>0.8403</td>\n",
       "      <td>1004.00</td>\n",
       "    </tr>\n",
       "    <tr>\n",
       "      <th>1</th>\n",
       "      <td>0.8588</td>\n",
       "      <td>0.8649</td>\n",
       "      <td>0.8618</td>\n",
       "      <td>999.00</td>\n",
       "    </tr>\n",
       "    <tr>\n",
       "      <th>2</th>\n",
       "      <td>0.8463</td>\n",
       "      <td>0.8186</td>\n",
       "      <td>0.8322</td>\n",
       "      <td>1009.00</td>\n",
       "    </tr>\n",
       "    <tr>\n",
       "      <th>3</th>\n",
       "      <td>0.7986</td>\n",
       "      <td>0.7655</td>\n",
       "      <td>0.7817</td>\n",
       "      <td>1015.00</td>\n",
       "    </tr>\n",
       "    <tr>\n",
       "      <th>4</th>\n",
       "      <td>0.8327</td>\n",
       "      <td>0.8512</td>\n",
       "      <td>0.8418</td>\n",
       "      <td>988.00</td>\n",
       "    </tr>\n",
       "    <tr>\n",
       "      <th>5</th>\n",
       "      <td>0.7981</td>\n",
       "      <td>0.8107</td>\n",
       "      <td>0.8043</td>\n",
       "      <td>1014.00</td>\n",
       "    </tr>\n",
       "    <tr>\n",
       "      <th>6</th>\n",
       "      <td>0.8567</td>\n",
       "      <td>0.8619</td>\n",
       "      <td>0.8593</td>\n",
       "      <td>985.00</td>\n",
       "    </tr>\n",
       "    <tr>\n",
       "      <th>7</th>\n",
       "      <td>0.8653</td>\n",
       "      <td>0.8671</td>\n",
       "      <td>0.8662</td>\n",
       "      <td>978.00</td>\n",
       "    </tr>\n",
       "    <tr>\n",
       "      <th>8</th>\n",
       "      <td>0.8488</td>\n",
       "      <td>0.8573</td>\n",
       "      <td>0.8530</td>\n",
       "      <td>1002.00</td>\n",
       "    </tr>\n",
       "    <tr>\n",
       "      <th>9</th>\n",
       "      <td>0.8584</td>\n",
       "      <td>0.8618</td>\n",
       "      <td>0.8601</td>\n",
       "      <td>1006.00</td>\n",
       "    </tr>\n",
       "    <tr>\n",
       "      <th>accuracy</th>\n",
       "      <td>0.8400</td>\n",
       "      <td>0.8400</td>\n",
       "      <td>0.8400</td>\n",
       "      <td>0.84</td>\n",
       "    </tr>\n",
       "    <tr>\n",
       "      <th>macro avg</th>\n",
       "      <td>0.8401</td>\n",
       "      <td>0.8403</td>\n",
       "      <td>0.8401</td>\n",
       "      <td>10000.00</td>\n",
       "    </tr>\n",
       "    <tr>\n",
       "      <th>weighted avg</th>\n",
       "      <td>0.8399</td>\n",
       "      <td>0.8400</td>\n",
       "      <td>0.8399</td>\n",
       "      <td>10000.00</td>\n",
       "    </tr>\n",
       "  </tbody>\n",
       "</table>\n",
       "</div>"
      ],
      "text/plain": [
       "              precision  recall  f1-score   support\n",
       "0                0.8370  0.8436    0.8403   1004.00\n",
       "1                0.8588  0.8649    0.8618    999.00\n",
       "2                0.8463  0.8186    0.8322   1009.00\n",
       "3                0.7986  0.7655    0.7817   1015.00\n",
       "4                0.8327  0.8512    0.8418    988.00\n",
       "5                0.7981  0.8107    0.8043   1014.00\n",
       "6                0.8567  0.8619    0.8593    985.00\n",
       "7                0.8653  0.8671    0.8662    978.00\n",
       "8                0.8488  0.8573    0.8530   1002.00\n",
       "9                0.8584  0.8618    0.8601   1006.00\n",
       "accuracy         0.8400  0.8400    0.8400      0.84\n",
       "macro avg        0.8401  0.8403    0.8401  10000.00\n",
       "weighted avg     0.8399  0.8400    0.8399  10000.00"
      ]
     },
     "execution_count": 7,
     "metadata": {},
     "output_type": "execute_result"
    }
   ],
   "source": [
    "class_report_resnet50"
   ]
  },
  {
   "cell_type": "markdown",
   "metadata": {},
   "source": [
    "#### Noiseperturb use std = 0.05"
   ]
  },
  {
   "cell_type": "code",
   "execution_count": 8,
   "metadata": {},
   "outputs": [],
   "source": [
    "noiseperturb = NoisePerturb(0.05)\n",
    "noiseperturb_dataloader = DataLoader(test_dataloader.dataset,batch_size=BATCH_SIZE,shuffle=False,collate_fn=noiseperturb)"
   ]
  },
  {
   "cell_type": "code",
   "execution_count": 9,
   "metadata": {},
   "outputs": [],
   "source": [
    "# metric noiseperturb data\n",
    "metrics_densenet121, class_report_densenet121 = metric(densenet121,noiseperturb_dataloader,num_classes=10)\n",
    "metrics_googlenet, class_report_googlenet = metric(googlenet,noiseperturb_dataloader,num_classes=10)\n",
    "metrics_inception_v3, class_report_inception_v3 = metric(inception_v3,noiseperturb_dataloader,num_classes=10)\n",
    "metrics_mobilenet_v2, class_report_mobilenet_v2 = metric(mobilenet_v2,noiseperturb_dataloader,num_classes=10)\n",
    "metrics_resnet50, class_report_resnet50 = metric(resnet50,noiseperturb_dataloader,num_classes=10)\n",
    "metrics_vgg16_bn, class_report_vgg16_bn = metric(vgg16_bn,noiseperturb_dataloader,num_classes=10)"
   ]
  },
  {
   "cell_type": "code",
   "execution_count": 10,
   "metadata": {},
   "outputs": [
    {
     "data": {
      "text/html": [
       "<div>\n",
       "<style scoped>\n",
       "    .dataframe tbody tr th:only-of-type {\n",
       "        vertical-align: middle;\n",
       "    }\n",
       "\n",
       "    .dataframe tbody tr th {\n",
       "        vertical-align: top;\n",
       "    }\n",
       "\n",
       "    .dataframe thead th {\n",
       "        text-align: right;\n",
       "    }\n",
       "</style>\n",
       "<table border=\"1\" class=\"dataframe\">\n",
       "  <thead>\n",
       "    <tr style=\"text-align: right;\">\n",
       "      <th></th>\n",
       "      <th>Metric</th>\n",
       "      <th>Value</th>\n",
       "    </tr>\n",
       "  </thead>\n",
       "  <tbody>\n",
       "    <tr>\n",
       "      <th>0</th>\n",
       "      <td>Accuracy</td>\n",
       "      <td>0.7849</td>\n",
       "    </tr>\n",
       "    <tr>\n",
       "      <th>1</th>\n",
       "      <td>Loss</td>\n",
       "      <td>1.6926</td>\n",
       "    </tr>\n",
       "    <tr>\n",
       "      <th>2</th>\n",
       "      <td>TPR</td>\n",
       "      <td>0.7849</td>\n",
       "    </tr>\n",
       "    <tr>\n",
       "      <th>3</th>\n",
       "      <td>TNR</td>\n",
       "      <td>0.9761</td>\n",
       "    </tr>\n",
       "    <tr>\n",
       "      <th>4</th>\n",
       "      <td>PPV</td>\n",
       "      <td>0.8320</td>\n",
       "    </tr>\n",
       "    <tr>\n",
       "      <th>5</th>\n",
       "      <td>NPV</td>\n",
       "      <td>0.9766</td>\n",
       "    </tr>\n",
       "    <tr>\n",
       "      <th>6</th>\n",
       "      <td>FPR</td>\n",
       "      <td>0.0239</td>\n",
       "    </tr>\n",
       "    <tr>\n",
       "      <th>7</th>\n",
       "      <td>FNR</td>\n",
       "      <td>0.2151</td>\n",
       "    </tr>\n",
       "    <tr>\n",
       "      <th>8</th>\n",
       "      <td>FDR</td>\n",
       "      <td>0.1680</td>\n",
       "    </tr>\n",
       "    <tr>\n",
       "      <th>9</th>\n",
       "      <td>ROC_AUC</td>\n",
       "      <td>0.9638</td>\n",
       "    </tr>\n",
       "    <tr>\n",
       "      <th>10</th>\n",
       "      <td>FPS</td>\n",
       "      <td>33196.4941</td>\n",
       "    </tr>\n",
       "  </tbody>\n",
       "</table>\n",
       "</div>"
      ],
      "text/plain": [
       "      Metric       Value\n",
       "0   Accuracy      0.7849\n",
       "1       Loss      1.6926\n",
       "2        TPR      0.7849\n",
       "3        TNR      0.9761\n",
       "4        PPV      0.8320\n",
       "5        NPV      0.9766\n",
       "6        FPR      0.0239\n",
       "7        FNR      0.2151\n",
       "8        FDR      0.1680\n",
       "9    ROC_AUC      0.9638\n",
       "10       FPS  33196.4941"
      ]
     },
     "execution_count": 10,
     "metadata": {},
     "output_type": "execute_result"
    }
   ],
   "source": [
    "metrics_resnet50"
   ]
  },
  {
   "cell_type": "code",
   "execution_count": 11,
   "metadata": {},
   "outputs": [
    {
     "data": {
      "text/html": [
       "<div>\n",
       "<style scoped>\n",
       "    .dataframe tbody tr th:only-of-type {\n",
       "        vertical-align: middle;\n",
       "    }\n",
       "\n",
       "    .dataframe tbody tr th {\n",
       "        vertical-align: top;\n",
       "    }\n",
       "\n",
       "    .dataframe thead th {\n",
       "        text-align: right;\n",
       "    }\n",
       "</style>\n",
       "<table border=\"1\" class=\"dataframe\">\n",
       "  <thead>\n",
       "    <tr style=\"text-align: right;\">\n",
       "      <th></th>\n",
       "      <th>precision</th>\n",
       "      <th>recall</th>\n",
       "      <th>f1-score</th>\n",
       "      <th>support</th>\n",
       "    </tr>\n",
       "  </thead>\n",
       "  <tbody>\n",
       "    <tr>\n",
       "      <th>0</th>\n",
       "      <td>0.9483</td>\n",
       "      <td>0.7330</td>\n",
       "      <td>0.8268</td>\n",
       "      <td>1000.0000</td>\n",
       "    </tr>\n",
       "    <tr>\n",
       "      <th>1</th>\n",
       "      <td>0.9630</td>\n",
       "      <td>0.8840</td>\n",
       "      <td>0.9218</td>\n",
       "      <td>1000.0000</td>\n",
       "    </tr>\n",
       "    <tr>\n",
       "      <th>2</th>\n",
       "      <td>0.7116</td>\n",
       "      <td>0.7920</td>\n",
       "      <td>0.7496</td>\n",
       "      <td>1000.0000</td>\n",
       "    </tr>\n",
       "    <tr>\n",
       "      <th>3</th>\n",
       "      <td>0.8161</td>\n",
       "      <td>0.4880</td>\n",
       "      <td>0.6108</td>\n",
       "      <td>1000.0000</td>\n",
       "    </tr>\n",
       "    <tr>\n",
       "      <th>4</th>\n",
       "      <td>0.7202</td>\n",
       "      <td>0.8750</td>\n",
       "      <td>0.7901</td>\n",
       "      <td>1000.0000</td>\n",
       "    </tr>\n",
       "    <tr>\n",
       "      <th>5</th>\n",
       "      <td>0.9267</td>\n",
       "      <td>0.5690</td>\n",
       "      <td>0.7051</td>\n",
       "      <td>1000.0000</td>\n",
       "    </tr>\n",
       "    <tr>\n",
       "      <th>6</th>\n",
       "      <td>0.4927</td>\n",
       "      <td>0.9790</td>\n",
       "      <td>0.6555</td>\n",
       "      <td>1000.0000</td>\n",
       "    </tr>\n",
       "    <tr>\n",
       "      <th>7</th>\n",
       "      <td>0.9728</td>\n",
       "      <td>0.7520</td>\n",
       "      <td>0.8483</td>\n",
       "      <td>1000.0000</td>\n",
       "    </tr>\n",
       "    <tr>\n",
       "      <th>8</th>\n",
       "      <td>0.8806</td>\n",
       "      <td>0.8700</td>\n",
       "      <td>0.8753</td>\n",
       "      <td>1000.0000</td>\n",
       "    </tr>\n",
       "    <tr>\n",
       "      <th>9</th>\n",
       "      <td>0.8883</td>\n",
       "      <td>0.9070</td>\n",
       "      <td>0.8976</td>\n",
       "      <td>1000.0000</td>\n",
       "    </tr>\n",
       "    <tr>\n",
       "      <th>accuracy</th>\n",
       "      <td>0.7849</td>\n",
       "      <td>0.7849</td>\n",
       "      <td>0.7849</td>\n",
       "      <td>0.7849</td>\n",
       "    </tr>\n",
       "    <tr>\n",
       "      <th>macro avg</th>\n",
       "      <td>0.8320</td>\n",
       "      <td>0.7849</td>\n",
       "      <td>0.7881</td>\n",
       "      <td>10000.0000</td>\n",
       "    </tr>\n",
       "    <tr>\n",
       "      <th>weighted avg</th>\n",
       "      <td>0.8320</td>\n",
       "      <td>0.7849</td>\n",
       "      <td>0.7881</td>\n",
       "      <td>10000.0000</td>\n",
       "    </tr>\n",
       "  </tbody>\n",
       "</table>\n",
       "</div>"
      ],
      "text/plain": [
       "              precision  recall  f1-score     support\n",
       "0                0.9483  0.7330    0.8268   1000.0000\n",
       "1                0.9630  0.8840    0.9218   1000.0000\n",
       "2                0.7116  0.7920    0.7496   1000.0000\n",
       "3                0.8161  0.4880    0.6108   1000.0000\n",
       "4                0.7202  0.8750    0.7901   1000.0000\n",
       "5                0.9267  0.5690    0.7051   1000.0000\n",
       "6                0.4927  0.9790    0.6555   1000.0000\n",
       "7                0.9728  0.7520    0.8483   1000.0000\n",
       "8                0.8806  0.8700    0.8753   1000.0000\n",
       "9                0.8883  0.9070    0.8976   1000.0000\n",
       "accuracy         0.7849  0.7849    0.7849      0.7849\n",
       "macro avg        0.8320  0.7849    0.7881  10000.0000\n",
       "weighted avg     0.8320  0.7849    0.7881  10000.0000"
      ]
     },
     "execution_count": 11,
     "metadata": {},
     "output_type": "execute_result"
    }
   ],
   "source": [
    "class_report_resnet50"
   ]
  },
  {
   "cell_type": "markdown",
   "metadata": {},
   "source": [
    "# Pruing"
   ]
  },
  {
   "cell_type": "markdown",
   "metadata": {},
   "source": [
    "#### pruning model use taylor"
   ]
  },
  {
   "cell_type": "code",
   "execution_count": 18,
   "metadata": {},
   "outputs": [],
   "source": [
    "taylor = Taylor(pruning_ratio=0.35)"
   ]
  },
  {
   "cell_type": "code",
   "execution_count": 19,
   "metadata": {},
   "outputs": [
    {
     "name": "stderr",
     "output_type": "stream",
     "text": [
      "  0%|          | 1/391 [00:00<00:53,  7.24it/s]"
     ]
    },
    {
     "name": "stderr",
     "output_type": "stream",
     "text": [
      "100%|██████████| 391/391 [00:12<00:00, 31.61it/s]\n",
      "100%|██████████| 120/120 [00:00<00:00, 12204.87it/s]\n",
      "100%|██████████| 391/391 [00:26<00:00, 15.02it/s]\n",
      "100%|██████████| 55/55 [00:00<00:00, 7857.71it/s]\n",
      "100%|██████████| 391/391 [01:10<00:00,  5.51it/s]\n",
      "100%|██████████| 90/90 [00:00<00:00, 10157.34it/s]\n",
      "100%|██████████| 391/391 [00:09<00:00, 42.43it/s]\n",
      "100%|██████████| 52/52 [00:00<00:00, 8551.41it/s]\n",
      "100%|██████████| 391/391 [00:10<00:00, 37.33it/s]\n",
      "100%|██████████| 53/53 [00:00<00:00, 7331.25it/s]\n",
      "100%|██████████| 391/391 [00:06<00:00, 63.67it/s]\n",
      "100%|██████████| 30/30 [00:00<00:00, 4369.37it/s]\n"
     ]
    }
   ],
   "source": [
    "pruned_densenet121 = taylor(densenet121,train_dataloader)\n",
    "pruned_googlenet = taylor(googlenet,train_dataloader)\n",
    "pruned_inception_v3 = taylor(inception_v3,train_dataloader)\n",
    "pruned_mobilenet_v2 = taylor(mobilenet_v2,train_dataloader)\n",
    "pruned_resnet50 = taylor(resnet50,train_dataloader)\n",
    "pruned_vgg16_bn = taylor(vgg16_bn,train_dataloader)"
   ]
  },
  {
   "cell_type": "code",
   "execution_count": 28,
   "metadata": {},
   "outputs": [
    {
     "data": {
      "image/png": "[encoded data removed]",
      "text/plain": [
       "<Figure size 800x600 with 1 Axes>"
      ]
     },
     "metadata": {},
     "output_type": "display_data"
    }
   ],
   "source": [
    "import matplotlib.pyplot as plt\n",
    "import numpy as np\n",
    "def analyze_pruning(model,pruned_model,test_dataloader,num_classes=10):\n",
    "    r\"\"\"\n",
    "    Analyze the effect of pruning on the model.\n",
    "    Arguments:\n",
    "        model: The original model.\n",
    "        pruned_model: The pruned model.\n",
    "        test_dataloader: The dataloader of test dataset.\n",
    "        num_classes: The number of classes.\n",
    "    \"\"\"\n",
    "    metrics, _ = metric(model,test_dataloader,num_classes=10)\n",
    "    metrics_pruned, _ = metric(pruned_model,test_dataloader,num_classes=10)\n",
    "    # covert two metrics to list and plot bar chart\n",
    "    x_labels = metrics.iloc[:,0].values\n",
    "    metrics = metrics.iloc[:,1].values\n",
    "    metrics_pruned =  metrics_pruned.iloc[:,1].values\n",
    "    width = 0.25\n",
    "    plt.figure(figsize=(8,6))\n",
    "    plt.bar(np.arange(len(metrics))-width/2,metrics,width=width,label='Original')\n",
    "    plt.bar(np.arange(len(metrics))+width/2,metrics_pruned,width=width,label='Pruned')\n",
    "    plt.xticks(range(len(metrics)),x_labels)\n",
    "    plt.xlabel('Metrics')\n",
    "    plt.ylabel('Value')\n",
    "    plt.legend()\n",
    "    plt.show()\n",
    "    \n",
    "analyze_pruning(densenet121,pruned_densenet121,test_dataloader)"
   ]
  },
  {
   "cell_type": "code",
   "execution_count": 16,
   "metadata": {},
   "outputs": [],
   "source": [
    "metrics, class_report = metric(pruned_model,test_dataloader,num_classes=100)"
   ]
  },
  {
   "cell_type": "markdown",
   "metadata": {},
   "source": [
    "# Adversarial Attack"
   ]
  },
  {
   "cell_type": "code",
   "execution_count": 12,
   "metadata": {},
   "outputs": [
    {
     "name": "stdout",
     "output_type": "stream",
     "text": [
      "Succeed rate: 0.9986000061035156\n"
     ]
    }
   ],
   "source": [
    "adv_data,original_data = run_attack(model,PGD,test_dataloader,kwargs={'eps':8/255,'alpha':1/255,'steps':10,'random_start':True})"
   ]
  },
  {
   "cell_type": "code",
   "execution_count": 13,
   "metadata": {},
   "outputs": [
    {
     "data": {
      "image/png": "[encoded data removed]",
      "text/plain": [
       "<Figure size 1000x500 with 2 Axes>"
      ]
     },
     "metadata": {},
     "output_type": "display_data"
    }
   ],
   "source": [
    "plot_adversarial_sample(adv_data[0],original_data[0])"
   ]
  },
  {
   "cell_type": "markdown",
   "metadata": {},
   "source": [
    "# Model Explaination"
   ]
  },
  {
   "cell_type": "code",
   "execution_count": 14,
   "metadata": {},
   "outputs": [
    {
     "name": "stderr",
     "output_type": "stream",
     "text": [
      "100%|██████████| 79/79 [05:51<00:00,  4.45s/it]\n"
     ]
    }
   ],
   "source": [
    "attributions,all_data = run_explanation(model,test_dataloader,agi,kwargs={'topk':2,'num_classes':100})"
   ]
  },
  {
   "cell_type": "code",
   "execution_count": 15,
   "metadata": {},
   "outputs": [
    {
     "data": {
      "image/png": "[encoded data removed]",
      "text/plain": [
       "<Figure size 640x480 with 1 Axes>"
      ]
     },
     "metadata": {},
     "output_type": "display_data"
    }
   ],
   "source": [
    "from plot import plot\n",
    "plot(attributions[1:2],test_dataset[1][0].unsqueeze(0))"
   ]
  }
 ],
 "metadata": {
  "kernelspec": {
   "display_name": "TDSC",
   "language": "python",
   "name": "python3"
  },
  "language_info": {
   "codemirror_mode": {
    "name": "ipython",
    "version": 3
   },
   "file_extension": ".py",
   "mimetype": "text/x-python",
   "name": "python",
   "nbconvert_exporter": "python",
   "pygments_lexer": "ipython3",
   "version": "3.10.12"
  }
 },
 "nbformat": 4,
 "nbformat_minor": 2
}
